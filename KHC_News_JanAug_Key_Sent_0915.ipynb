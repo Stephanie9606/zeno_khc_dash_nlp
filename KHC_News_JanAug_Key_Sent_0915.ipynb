{
  "cells": [
    {
      "cell_type": "markdown",
      "metadata": {
        "id": "view-in-github",
        "colab_type": "text"
      },
      "source": [
        "<a href=\"https://colab.research.google.com/github/Stephanie9606/zeno_khc_dash_nlp/blob/main/KHC_News_JanAug_Key_Sent_0915.ipynb\" target=\"_parent\"><img src=\"https://colab.research.google.com/assets/colab-badge.svg\" alt=\"Open In Colab\"/></a>"
      ]
    },
    {
      "cell_type": "markdown",
      "metadata": {
        "id": "MZKYB3Gd966l"
      },
      "source": [
        "# **KHC Dashboard Pulsar Data Testing File - Sentiment + Keywords**"
      ]
    },
    {
      "cell_type": "code",
      "execution_count": null,
      "metadata": {
        "id": "f9bFluJqSX5F"
      },
      "outputs": [],
      "source": [
        "import pandas as pd\n",
        "import numpy as np"
      ]
    },
    {
      "cell_type": "code",
      "execution_count": null,
      "metadata": {
        "id": "8uRrImaAWGXF"
      },
      "outputs": [],
      "source": [
        "from google.colab import drive\n",
        "drive.mount('/content/drive')"
      ]
    },
    {
      "cell_type": "markdown",
      "metadata": {
        "id": "fwIK2M8xScrD"
      },
      "source": [
        "# Data cleaning"
      ]
    },
    {
      "cell_type": "markdown",
      "metadata": {
        "id": "7xrgTmeGVt6t"
      },
      "source": [
        "--- KHC Data Jan - Jun 2023 ---"
      ]
    },
    {
      "cell_type": "code",
      "execution_count": null,
      "metadata": {
        "id": "QZtr06n3U-54"
      },
      "outputs": [],
      "source": [
        "khc_df_16 = pd.read_excel('/content/drive/MyDrive/Zeno_KHC_News/khc_H1_newsblogs_clean_nodirt.xlsx')"
      ]
    },
    {
      "cell_type": "code",
      "execution_count": null,
      "metadata": {
        "id": "jDati4VccOOK"
      },
      "outputs": [],
      "source": [
        "# only keep 'news' (rm blogs)\n",
        "khc_df_16 = khc_df_16[khc_df_16['source'] == 'Online News']"
      ]
    },
    {
      "cell_type": "markdown",
      "source": [
        "--- KHC Data July - Aug 2023 ---"
      ],
      "metadata": {
        "id": "UJY523M6smBq"
      }
    },
    {
      "cell_type": "code",
      "source": [
        "khc_df_78 = pd.read_excel('/content/drive/MyDrive/Zeno_KHC_News/khc_news_JulyAug.xlsx')"
      ],
      "metadata": {
        "id": "FY3GVLRUufbG"
      },
      "execution_count": null,
      "outputs": []
    },
    {
      "cell_type": "code",
      "source": [
        "# merge two data\n",
        "khc_df = pd.concat([khc_df_16, khc_df_78], axis=0)"
      ],
      "metadata": {
        "id": "9cVN7ajKLm6A"
      },
      "execution_count": null,
      "outputs": []
    },
    {
      "cell_type": "code",
      "execution_count": null,
      "metadata": {
        "colab": {
          "base_uri": "https://localhost:8080/"
        },
        "id": "tjnXNUVzBvwv",
        "outputId": "8988ea59-c4fa-4e1a-e6a9-b277cb4b500b"
      },
      "outputs": [
        {
          "output_type": "execute_result",
          "data": {
            "text/plain": [
              "16297"
            ]
          },
          "metadata": {},
          "execution_count": 7
        }
      ],
      "source": [
        "# check num of rows\n",
        "khc_df.shape[0]"
      ]
    },
    {
      "cell_type": "code",
      "execution_count": null,
      "metadata": {
        "id": "tvrv7_LiB31w"
      },
      "outputs": [],
      "source": [
        "# rm rows with duplicated contents\n",
        "khc_df = khc_df[~khc_df.duplicated(subset='content', keep=False)]"
      ]
    },
    {
      "cell_type": "code",
      "execution_count": null,
      "metadata": {
        "colab": {
          "base_uri": "https://localhost:8080/"
        },
        "id": "Or18CMPqLVzZ",
        "outputId": "44a5eccd-aaaf-44a5-d826-0bf849452e85"
      },
      "outputs": [
        {
          "output_type": "execute_result",
          "data": {
            "text/plain": [
              "13006"
            ]
          },
          "metadata": {},
          "execution_count": 9
        }
      ],
      "source": [
        "khc_df.shape[0]"
      ]
    },
    {
      "cell_type": "code",
      "source": [
        "# keep only relevant columns\n",
        "columns_to_keep = [0, 1, 2, 5, 6, 9, 14, 18]\n",
        "khc_df_news = khc_df.iloc[:, columns_to_keep]"
      ],
      "metadata": {
        "id": "3qsuFMR_MCLD"
      },
      "execution_count": null,
      "outputs": []
    },
    {
      "cell_type": "code",
      "execution_count": null,
      "metadata": {
        "id": "wE2Tf2BBHvIl"
      },
      "outputs": [],
      "source": [
        "# run pulsar query again, extract relevant content (security -> food security, too many noise) (Delete \"Heinz\" in the future)\n",
        "keywords = [\"Kraft Heinz\", \"KHC\", \"Kraft Mac and Cheese\", \"Heinz\", \"Kraft Singles\", \"Miracle Whip\", \"Heinz Ketchup\", \"Lunchables\", \"Velveeta\"]\n",
        "topics = [\"supply chain\", \"supply\", \"food security\", \"supplier\", \"recycled\", \"recycle\", \"recycling\", \"single-use\", \"plastic\", \"package\", \"packaging\", \"waste\", \"environment\", \"nature\", \"product\", \"quality\", \"planet\", \"crisis\", \"challenge\", \"problem\", \"criticism\", \"reputation\"]\n",
        "\n",
        "mask = khc_df_news['content'].str.contains('|'.join(keywords), case=False) & khc_df_news['content'].str.contains('|'.join(topics), case=False)\n",
        "\n",
        "khc_df_news = khc_df_news[mask]"
      ]
    },
    {
      "cell_type": "code",
      "execution_count": null,
      "metadata": {
        "colab": {
          "base_uri": "https://localhost:8080/"
        },
        "id": "_z1-fribIhRD",
        "outputId": "9ff68434-68fd-4736-eec4-5a5853ac3fbc"
      },
      "outputs": [
        {
          "output_type": "execute_result",
          "data": {
            "text/plain": [
              "12652"
            ]
          },
          "metadata": {},
          "execution_count": 12
        }
      ],
      "source": [
        "khc_df_news.shape[0]"
      ]
    },
    {
      "cell_type": "markdown",
      "source": [
        "--- rm content with high similarity: 90% ---"
      ],
      "metadata": {
        "id": "3GNJjMN6Os_F"
      }
    },
    {
      "cell_type": "code",
      "source": [
        "from sklearn.feature_extraction.text import TfidfVectorizer\n",
        "from sklearn.metrics.pairwise import linear_kernel\n",
        "\n",
        "# Calculate TF-IDF vectors\n",
        "tfidf_vectorizer = TfidfVectorizer()\n",
        "tfidf_matrix = tfidf_vectorizer.fit_transform(khc_df_news['content'])\n",
        "\n",
        "# Calculate cosine similarity\n",
        "cosine_sim = linear_kernel(tfidf_matrix, tfidf_matrix)\n",
        "\n",
        "# Set a threshold for similarity\n",
        "threshold = 0.9\n",
        "\n",
        "# Create a list to track which rows to remove\n",
        "rows_to_remove = []\n",
        "\n",
        "# Iterate through the cosine similarity matrix\n",
        "for i in range(len(khc_df_news)):\n",
        "    for j in range(i + 1, len(khc_df_news)):\n",
        "        if cosine_sim[i][j] >= threshold:\n",
        "            # Check if both indices exist in the DataFrame\n",
        "            if i in khc_df_news.index and j in khc_df_news.index:\n",
        "                rows_to_remove.append(j)\n",
        "\n",
        "# Remove duplicate indices from the list\n",
        "rows_to_remove = list(set(rows_to_remove))\n",
        "\n",
        "# Filter the DataFrame to remove rows with similar content\n",
        "khc_df_news = khc_df_news.drop(index=rows_to_remove).reset_index(drop=True)"
      ],
      "metadata": {
        "id": "n3SazUFFOsc-"
      },
      "execution_count": null,
      "outputs": []
    },
    {
      "cell_type": "code",
      "source": [
        "khc_df_news.shape[0]"
      ],
      "metadata": {
        "colab": {
          "base_uri": "https://localhost:8080/"
        },
        "id": "e3hJtbo-O432",
        "outputId": "ac624ce9-38b3-42cd-dfc7-8a6a4b5901a8"
      },
      "execution_count": null,
      "outputs": [
        {
          "output_type": "execute_result",
          "data": {
            "text/plain": [
              "5660"
            ]
          },
          "metadata": {},
          "execution_count": 20
        }
      ]
    },
    {
      "cell_type": "code",
      "source": [
        "khc_df_news.head(20)"
      ],
      "metadata": {
        "id": "YXPWnRT9RDeO"
      },
      "execution_count": null,
      "outputs": []
    },
    {
      "cell_type": "code",
      "execution_count": null,
      "metadata": {
        "id": "M-_9ysUTO6HO"
      },
      "outputs": [],
      "source": [
        "khc_df_news.tail(20)"
      ]
    },
    {
      "cell_type": "code",
      "execution_count": null,
      "metadata": {
        "id": "w3PbT0uo8zvC"
      },
      "outputs": [],
      "source": [
        "# save to new excel file\n",
        "khc_df_news.to_excel('/content/drive/MyDrive/Zeno_KHC_News/khc_news_JanAug_clean.xlsx', index=False)"
      ]
    },
    {
      "cell_type": "markdown",
      "metadata": {
        "id": "raM_Z6_cPlsm"
      },
      "source": [
        "# Directly read cleaned file"
      ]
    },
    {
      "cell_type": "code",
      "execution_count": null,
      "metadata": {
        "id": "Dcj6cqw4Ezua"
      },
      "outputs": [],
      "source": [
        "# 5660 rows\n",
        "khc_df_news = pd.read_excel('/content/drive/MyDrive/Zeno_KHC_News/khc_news_JanAug_clean.xlsx')"
      ]
    },
    {
      "cell_type": "markdown",
      "metadata": {
        "id": "iSBlbmfdoR9Y"
      },
      "source": [
        "# Keywords: KeyBert"
      ]
    },
    {
      "cell_type": "markdown",
      "metadata": {
        "id": "PwZbuBQWAdO5"
      },
      "source": [
        "--- every 3000 rows takes approximately  mins ---"
      ]
    },
    {
      "cell_type": "code",
      "execution_count": null,
      "metadata": {
        "id": "u1haDqNEJOh9"
      },
      "outputs": [],
      "source": [
        "# split into 2 df, each data has about 3000 rows\n",
        "khc_df_n1 = khc_df_news.iloc[:3000,:]"
      ]
    },
    {
      "cell_type": "code",
      "execution_count": null,
      "metadata": {
        "id": "hnSTZOJZ0tJA"
      },
      "outputs": [],
      "source": [
        "khc_df_n2 = khc_df_news.iloc[3000:,:]"
      ]
    },
    {
      "cell_type": "code",
      "execution_count": null,
      "metadata": {
        "id": "VhNT4Qqx90EB"
      },
      "outputs": [],
      "source": [
        "#!pip3 install keybert\n",
        "from keybert import KeyBERT"
      ]
    },
    {
      "cell_type": "code",
      "execution_count": null,
      "metadata": {
        "id": "Q-5RYR35QEA4"
      },
      "outputs": [],
      "source": [
        "#!pip3 install keyphrase-vectorizers\n",
        "#from keyphrase_vectorizers import KeyphraseCountVectorizer"
      ]
    },
    {
      "cell_type": "code",
      "execution_count": null,
      "metadata": {
        "id": "FeQoJ25bor6n"
      },
      "outputs": [],
      "source": [
        "#!pip3 install transformers\n",
        "# init default vectorizer\n",
        "#vectorizer = KeyphraseCountVectorizer()\n",
        "#print(vectorizer.get_params()) # print parameters\n",
        "\n",
        "# specify model\n",
        "kw_model = KeyBERT('all-MiniLM-L12-v2')\n",
        "# specify number of keywords to extract\n",
        "n_keywords = 5\n",
        "ngram = 2  # specify ngram of keywords"
      ]
    },
    {
      "cell_type": "code",
      "execution_count": null,
      "metadata": {
        "id": "FDJ_aFCv981-"
      },
      "outputs": [],
      "source": [
        "# function to extract keywords for a batch of rows\n",
        "def get_keywords_batch(rows):\n",
        "    contents = rows['content'].tolist()\n",
        "    keywords_batch = kw_model.extract_keywords(contents, stop_words='english', highlight=False, top_n=n_keywords, keyphrase_ngram_range=(1, ngram), diversity=0.2)\n",
        "    return [[keyword[0] for keyword in keywords] for keywords in keywords_batch]"
      ]
    },
    {
      "cell_type": "code",
      "execution_count": null,
      "metadata": {
        "id": "acmVAkuz988n"
      },
      "outputs": [],
      "source": [
        "### change n1 and n2 df to proceed\n",
        "# split the data into batches (higher effieciency)\n",
        "batch_size = 100\n",
        "batches = [khc_df_n1[i:i+batch_size] for i in range(0, len(khc_df_n1), batch_size)]"
      ]
    },
    {
      "cell_type": "code",
      "execution_count": null,
      "metadata": {
        "id": "C54lJyhf99Ap"
      },
      "outputs": [],
      "source": [
        "# extract keywords for each batch and concatenate the results\n",
        "keyword_lists = []\n",
        "for batch in batches:\n",
        "    keyword_lists.extend(get_keywords_batch(batch))"
      ]
    },
    {
      "cell_type": "code",
      "execution_count": null,
      "metadata": {
        "id": "bvdGPXaS99FU"
      },
      "outputs": [],
      "source": [
        "### change n1 and n2 df to proceed\n",
        "# add the keyword lists as a new column to the DataFrame\n",
        "khc_df_n1['keywords'] = keyword_lists\n",
        "# format to better fit in Excel\n",
        "khc_df_n1['keywords'] = khc_df_n1['keywords'].apply(lambda x: ', '.join(x))"
      ]
    },
    {
      "cell_type": "code",
      "source": [
        "# merge n1 + n2\n",
        "khc_news_key = pd.concat([khc_df_n1, khc_df_n2], axis=0)"
      ],
      "metadata": {
        "id": "s1Z1TUBamqc0"
      },
      "execution_count": null,
      "outputs": []
    },
    {
      "cell_type": "code",
      "execution_count": null,
      "metadata": {
        "id": "aS7kAVPAXdzS"
      },
      "outputs": [],
      "source": [
        "khc_news_key.head()"
      ]
    },
    {
      "cell_type": "code",
      "execution_count": null,
      "metadata": {
        "id": "TdPb58xcLfh5"
      },
      "outputs": [],
      "source": [
        "khc_news_key.to_excel('/content/drive/MyDrive/Zeno_KHC_News/khc_news_JanAug_key5gram2_0920.xlsx', index=False)"
      ]
    },
    {
      "cell_type": "markdown",
      "source": [
        "# KeyBERT: Optimized with SpaCy (POS: noun, verb, adj) --> not improve"
      ],
      "metadata": {
        "id": "x1XqRcMQZxzN"
      }
    },
    {
      "cell_type": "code",
      "source": [
        "#!pip3 install --upgrade transformers\n",
        "import transformers\n",
        "\n",
        "keybert = KeyBERT('all-MiniLM-L12-v2')"
      ],
      "metadata": {
        "id": "IoBZxv4-Z4nP"
      },
      "execution_count": null,
      "outputs": []
    },
    {
      "cell_type": "code",
      "source": [
        "vectorizer = KeyphraseCountVectorizer(spacy_pipeline='en_core_web_sm', pos_pattern='<J.*>*<N.*>+', stop_words='english', lowercase=True)"
      ],
      "metadata": {
        "id": "ThSpv82mZ82k"
      },
      "execution_count": null,
      "outputs": []
    },
    {
      "cell_type": "code",
      "source": [
        "khc_test20 = khc_df_n1000.iloc[:20,:]"
      ],
      "metadata": {
        "id": "6vH_EzbFjnKQ"
      },
      "execution_count": null,
      "outputs": []
    },
    {
      "cell_type": "code",
      "source": [
        "keybert_keywords = []\n",
        "batch_size = 32\n",
        "for idx in range(0, len(khc_test20), batch_size):\n",
        "    batch = khc_test20['content'].iloc[idx: idx + batch_size]  # Extract the content column\n",
        "    keywords_batch = keybert.extract_keywords(batch.tolist(), vectorizer=vectorizer, stop_words='english', top_n=10)\n",
        "    keybert_keywords.extend(keywords_batch)"
      ],
      "metadata": {
        "colab": {
          "base_uri": "https://localhost:8080/"
        },
        "id": "EkyXIcX6aAN4",
        "outputId": "d4ab11c6-d590-45cd-9cec-bff2db520cc2"
      },
      "execution_count": null,
      "outputs": [
        {
          "output_type": "stream",
          "name": "stderr",
          "text": [
            "2023-08-25 21:17:56,188 - KeyphraseVectorizer - INFO - It looks like you do not have downloaded a list of stopwords yet. It is attempted to download the stopwords now.\n",
            "INFO:KeyphraseVectorizer:It looks like you do not have downloaded a list of stopwords yet. It is attempted to download the stopwords now.\n",
            "[nltk_data] Downloading package stopwords to /root/nltk_data...\n",
            "[nltk_data]   Unzipping corpora/stopwords.zip.\n"
          ]
        }
      ]
    },
    {
      "cell_type": "code",
      "source": [
        "khc_test20['keybert'] = pd.Series([', '.join([keyword[0] for keyword in keywords]) for keywords in keybert_keywords])"
      ],
      "metadata": {
        "colab": {
          "base_uri": "https://localhost:8080/"
        },
        "id": "nZqdOM20aC8F",
        "outputId": "560bab0d-86ef-4b02-a4ca-c294f6712b4c"
      },
      "execution_count": null,
      "outputs": [
        {
          "output_type": "stream",
          "name": "stderr",
          "text": [
            "<ipython-input-19-725d428bfdfc>:1: SettingWithCopyWarning: \n",
            "A value is trying to be set on a copy of a slice from a DataFrame.\n",
            "Try using .loc[row_indexer,col_indexer] = value instead\n",
            "\n",
            "See the caveats in the documentation: https://pandas.pydata.org/pandas-docs/stable/user_guide/indexing.html#returning-a-view-versus-a-copy\n",
            "  khc_test20['keybert'] = pd.Series([', '.join([keyword[0] for keyword in keywords]) for keywords in keybert_keywords])\n"
          ]
        }
      ]
    },
    {
      "cell_type": "code",
      "source": [
        "khc_test20.iloc[:,[5,-1,-2]]"
      ],
      "metadata": {
        "id": "xDzBuGxOaE9V"
      },
      "execution_count": null,
      "outputs": []
    },
    {
      "cell_type": "markdown",
      "source": [
        "# KeyBERT Fine-tune"
      ],
      "metadata": {
        "id": "TaJeig8vk_X5"
      }
    },
    {
      "cell_type": "code",
      "source": [
        "#!pip3 install datasets\n",
        "# load the data\n",
        "from datasets import load_dataset\n",
        "\n",
        "# get entire dataset\n",
        "ft_df = load_dataset(\"midas/inspec\", \"generation\")"
      ],
      "metadata": {
        "colab": {
          "base_uri": "https://localhost:8080/"
        },
        "id": "k-Z98wnf5tif",
        "outputId": "88b44657-6c35-4da4-89c7-587bbf3cb444"
      },
      "execution_count": null,
      "outputs": [
        {
          "output_type": "stream",
          "name": "stderr",
          "text": [
            "Repo card metadata block was not found. Setting CardData to empty.\n",
            "WARNING:huggingface_hub.repocard:Repo card metadata block was not found. Setting CardData to empty.\n"
          ]
        }
      ]
    },
    {
      "cell_type": "code",
      "source": [
        "print(type(ft_df))"
      ],
      "metadata": {
        "colab": {
          "base_uri": "https://localhost:8080/"
        },
        "id": "vMjthgWf7FkR",
        "outputId": "9433a8a0-f04a-4925-9f1e-743749935509"
      },
      "execution_count": null,
      "outputs": [
        {
          "output_type": "stream",
          "name": "stdout",
          "text": [
            "<class 'datasets.dataset_dict.DatasetDict'>\n"
          ]
        }
      ]
    },
    {
      "cell_type": "code",
      "source": [
        "ft_df_train = ft_df['train'].to_pandas()"
      ],
      "metadata": {
        "id": "P1pQocum7ZF5"
      },
      "execution_count": null,
      "outputs": []
    },
    {
      "cell_type": "code",
      "source": [
        "# 1000 rows\n",
        "ft_df_train.shape[0]"
      ],
      "metadata": {
        "id": "9dbbVhYC9GpG"
      },
      "execution_count": null,
      "outputs": []
    },
    {
      "cell_type": "code",
      "source": [
        "!pip3 install transformers\n",
        "import tensorflow as tf\n",
        "from transformers import TFRobertaForSequenceClassification, RobertaTokenizer\n",
        "from transformers import Trainer, TrainingArguments\n",
        "import datasets"
      ],
      "metadata": {
        "colab": {
          "base_uri": "https://localhost:8080/"
        },
        "id": "9RvW5VGK_Rw_",
        "outputId": "50ca6265-fe88-464a-aae5-f54329d20525"
      },
      "execution_count": null,
      "outputs": [
        {
          "output_type": "stream",
          "name": "stdout",
          "text": [
            "Installing collected packages: tokenizers, safetensors, transformers\n",
            "Successfully installed safetensors-0.3.3 tokenizers-0.13.3 transformers-4.32.1\n"
          ]
        }
      ]
    },
    {
      "cell_type": "code",
      "source": [
        "### CHATGPT\n",
        "import pandas as pd\n",
        "from transformers import DistilRobertaTokenizer, DistilRobertaForSequenceClassification, Trainer, TrainingArguments\n",
        "\n",
        "# Load your dataset (assuming you have a DataFrame with 'content' and 'keywords' columns)\n",
        "# df = pd.read_csv('your_dataset.csv')\n",
        "\n",
        "# Tokenizer and model\n",
        "tokenizer = DistilRobertaTokenizer.from_pretrained('distilroberta-base')\n",
        "model = DistilRobertaForSequenceClassification.from_pretrained('distilroberta-base', num_labels=len(label_list))  # Assuming label_list is defined\n",
        "\n",
        "# Tokenize and encode the data\n",
        "encoded_data = tokenizer(\n",
        "    list(df['content']),  # Assuming 'content' contains your text content\n",
        "    list(df['keywords']),  # Assuming 'keywords' contains your keywords\n",
        "    padding=True,\n",
        "    truncation=True,\n",
        "    max_length=128,  # Adjust this as needed\n",
        "    return_tensors='pt',\n",
        ")\n",
        "\n",
        "# Define the training arguments\n",
        "training_args = TrainingArguments(\n",
        "    output_dir='./output',\n",
        "    per_device_train_batch_size=8,\n",
        "    evaluation_strategy='steps',\n",
        "    eval_steps=500,  # Adjust as needed\n",
        "    save_total_limit=5,\n",
        "    num_train_epochs=3,  # Adjust as needed\n",
        "    learning_rate=5e-5,  # Adjust as needed\n",
        "    logging_dir='./logs',\n",
        ")\n",
        "\n",
        "# Create a Trainer instance\n",
        "trainer = Trainer(\n",
        "    model=model,\n",
        "    args=training_args,\n",
        "    train_dataset=encoded_data,\n",
        "    data_collator=None,  # You can customize data collation if needed\n",
        ")\n",
        "\n",
        "# Fine-tune the model\n",
        "trainer.train()\n",
        "\n",
        "# Save the fine-tuned model\n",
        "trainer.save_model('./fine_tuned_model')\n"
      ],
      "metadata": {
        "id": "J6EBTDJY5liK"
      },
      "execution_count": null,
      "outputs": []
    },
    {
      "cell_type": "code",
      "source": [
        "# after fine-tune\n",
        "import pandas as pd\n",
        "from transformers import DistilRobertaTokenizer, DistilRobertaForSequenceClassification\n",
        "\n",
        "# Load the fine-tuned model and tokenizer\n",
        "model_checkpoint = \"./fine_tuned_model\"  # Change to the path where your fine-tuned model is saved\n",
        "tokenizer = DistilRobertaTokenizer.from_pretrained(model_checkpoint)\n",
        "model = DistilRobertaForSequenceClassification.from_pretrained(model_checkpoint)\n",
        "\n",
        "# Load the new DataFrame with the \"content\" column\n",
        "new_df = pd.read_csv(\"new_data.csv\")  # Change to the path of your new dataset CSV file\n",
        "\n",
        "# Tokenize and encode the new data\n",
        "encoded_data = tokenizer(\n",
        "    list(new_df['content']),  # Assuming 'content' contains your new text content\n",
        "    padding=True,\n",
        "    truncation=True,\n",
        "    max_length=128,  # Adjust this as needed\n",
        "    return_tensors='pt',\n",
        ")\n",
        "\n",
        "# Generate keywords using the fine-tuned model\n",
        "with torch.no_grad():\n",
        "    outputs = model(**encoded_data)\n",
        "\n",
        "# Extract the logits or probabilities as keywords\n",
        "logits = outputs.logits\n",
        "probabilities = torch.softmax(logits, dim=1)\n",
        "\n",
        "# You can extract the keywords based on the probabilities, e.g., top-k keywords\n",
        "top_k = 5  # Adjust the number of top keywords as needed\n",
        "keywords = [tokenizer.convert_ids_to_tokens(token_ids) for token_ids in probabilities.topk(top_k).indices.tolist()]\n",
        "\n",
        "# Add the keywords to the new DataFrame\n",
        "new_df['keywords'] = [', '.join(keyword) for keyword in keywords]\n",
        "\n",
        "# Print the updated DataFrame\n",
        "print(new_df.head())"
      ],
      "metadata": {
        "id": "08hqeHra6tAM"
      },
      "execution_count": null,
      "outputs": []
    },
    {
      "cell_type": "code",
      "source": [
        "!pip3 install datasets\n",
        "from datasets import load_dataset\n",
        "\n",
        "dataset = load_dataset(\"midas/kptimes\", \"extraction\")\n",
        "label_list = np.unique([item for sublist in dataset['train']['doc_bio_tags'] for item in sublist])\n",
        "label_dict = {label_list[0]: 1, label_list[1]: 2, label_list[2]: 0}"
      ],
      "metadata": {
        "id": "RLyejPhDlHkj"
      },
      "execution_count": null,
      "outputs": []
    },
    {
      "cell_type": "markdown",
      "source": [
        "# Directly read data with keywords"
      ],
      "metadata": {
        "id": "WEp9Wg4sl9tS"
      }
    },
    {
      "cell_type": "code",
      "source": [
        "khc_df_n1000 = pd.read_excel('/content/drive/MyDrive/Zeno/news_w_keywords/khc_H1_khc_n1000_kys.xlsx')"
      ],
      "metadata": {
        "id": "1HsXo7Gfl86Q"
      },
      "execution_count": null,
      "outputs": []
    },
    {
      "cell_type": "code",
      "source": [
        "khc_df_n2000 = pd.read_excel('/content/drive/MyDrive/Zeno/news_w_keywords/khc_H1_khc_n2000_kys.xlsx')"
      ],
      "metadata": {
        "id": "1X5QMuEqmK6B"
      },
      "execution_count": null,
      "outputs": []
    },
    {
      "cell_type": "code",
      "source": [
        "khc_df_n3000 = pd.read_excel('/content/drive/MyDrive/Zeno/news_w_keywords/khc_H1_khc_n3000_kys.xlsx')"
      ],
      "metadata": {
        "id": "LvlXUjUfmLAU"
      },
      "execution_count": null,
      "outputs": []
    },
    {
      "cell_type": "code",
      "source": [
        "khc_df_n4000 = pd.read_excel('/content/drive/MyDrive/Zeno/news_w_keywords/khc_H1_khc_n4000_kys.xlsx')"
      ],
      "metadata": {
        "id": "KZIPjaDXmLEb"
      },
      "execution_count": null,
      "outputs": []
    },
    {
      "cell_type": "code",
      "source": [
        "khc_df_n5000 = pd.read_excel('/content/drive/MyDrive/Zeno/news_w_keywords/khc_H1_khc_n5000_kys.xlsx')"
      ],
      "metadata": {
        "id": "woXuZQnbmLIF"
      },
      "execution_count": null,
      "outputs": []
    },
    {
      "cell_type": "code",
      "source": [
        "khc_df_n6000 = pd.read_excel('/content/drive/MyDrive/Zeno/news_w_keywords/khc_H1_khc_n6000_kys.xlsx')"
      ],
      "metadata": {
        "id": "3C0DWLW6mLMA"
      },
      "execution_count": null,
      "outputs": []
    },
    {
      "cell_type": "code",
      "source": [
        "# concat into a big one\n",
        "khc_df_keys = pd.concat([khc_df_n1000, khc_df_n2000, khc_df_n3000, khc_df_n4000, khc_df_n5000, khc_df_n6000], axis=0)\n",
        "\n",
        "khc_df_keys.reset_index(drop=True, inplace=True)"
      ],
      "metadata": {
        "id": "ncxjVMTbM_w3"
      },
      "execution_count": null,
      "outputs": []
    },
    {
      "cell_type": "markdown",
      "source": [
        "# Data Cleaning: rm 95% similarity context"
      ],
      "metadata": {
        "id": "_h9Z0wKTU-hD"
      }
    },
    {
      "cell_type": "code",
      "source": [
        "khc_df_keys.shape[0]"
      ],
      "metadata": {
        "colab": {
          "base_uri": "https://localhost:8080/"
        },
        "id": "2Z9IyDZhcZ4s",
        "outputId": "5bda2154-95e7-4a37-d010-a192a7815874"
      },
      "execution_count": null,
      "outputs": [
        {
          "output_type": "execute_result",
          "data": {
            "text/plain": [
              "5908"
            ]
          },
          "metadata": {},
          "execution_count": 76
        }
      ]
    },
    {
      "cell_type": "markdown",
      "source": [
        "Remove content with high(%) similarity"
      ],
      "metadata": {
        "id": "772uREQtbeuo"
      }
    },
    {
      "cell_type": "code",
      "source": [
        "from sklearn.feature_extraction.text import TfidfVectorizer\n",
        "from sklearn.metrics.pairwise import linear_kernel\n",
        "\n",
        "# Calculate TF-IDF vectors\n",
        "tfidf_vectorizer = TfidfVectorizer()\n",
        "tfidf_matrix = tfidf_vectorizer.fit_transform(khc_df_keys['content'])\n",
        "\n",
        "# Calculate cosine similarity\n",
        "cosine_sim = linear_kernel(tfidf_matrix, tfidf_matrix)\n",
        "\n",
        "# Set a threshold for similarity\n",
        "threshold = 0.95\n",
        "\n",
        "# Create a list to track which rows to remove\n",
        "rows_to_remove = []\n",
        "\n",
        "# Iterate through the cosine similarity matrix\n",
        "for i in range(len(khc_df_keys)):\n",
        "    for j in range(i + 1, len(khc_df_keys)):\n",
        "        if cosine_sim[i][j] >= threshold:\n",
        "            rows_to_remove.append(j)\n",
        "\n",
        "# Filter the DataFrame to remove rows with similar content\n",
        "khc_df_keys_nosim = khc_df_keys.drop(index=rows_to_remove).reset_index(drop=True)"
      ],
      "metadata": {
        "id": "JlePt48bbixI"
      },
      "execution_count": null,
      "outputs": []
    },
    {
      "cell_type": "code",
      "source": [
        "khc_df_keys_nosim.shape[0]"
      ],
      "metadata": {
        "colab": {
          "base_uri": "https://localhost:8080/"
        },
        "id": "8pftb84AOr7h",
        "outputId": "ee605c24-d6e2-46e7-d816-39634d520628"
      },
      "execution_count": null,
      "outputs": [
        {
          "output_type": "execute_result",
          "data": {
            "text/plain": [
              "2883"
            ]
          },
          "metadata": {},
          "execution_count": 78
        }
      ]
    },
    {
      "cell_type": "code",
      "source": [
        "khc_df_keys_nosim.iloc[:,[5,-1]]"
      ],
      "metadata": {
        "id": "kasx_ZGAcq_r"
      },
      "execution_count": null,
      "outputs": []
    },
    {
      "cell_type": "code",
      "source": [
        "# data without 95% similar content\n",
        "khc_df_keys_nosim.to_excel('/content/drive/MyDrive/Zeno/khc_H1_0824.xlsx', index=False)"
      ],
      "metadata": {
        "id": "5NE1SszcPLzY"
      },
      "execution_count": null,
      "outputs": []
    },
    {
      "cell_type": "markdown",
      "source": [
        "Extract previous and later 3 sentence based on keywords?"
      ],
      "metadata": {
        "id": "tenKf3d4bXee"
      }
    },
    {
      "cell_type": "code",
      "source": [
        "import re\n",
        "\n",
        "keywords = [\"Kraft Heinz\", \"KHC\", \"Kraft Mac and Cheese\", \"Kraft Singles\", \"Miracle Whip\", \"Heinz Ketchup\", \"Lunchables\", \"Velveeta\", \"supply chain\", \"supply\", \"security\", \"supplier\", \"recycled\", \"recycle\", \"recycling\", \"single-use\", \"plastic\", \"package\", \"packaging\", \"waste\", \"environment\", \"nature\", \"product\", \"quality\", \"planet\", \"crisis\", \"challenge\", \"problem\", \"criticism\", \"reputation\", \"image\"]"
      ],
      "metadata": {
        "id": "Kt_C3XwNVgkE"
      },
      "execution_count": null,
      "outputs": []
    },
    {
      "cell_type": "markdown",
      "source": [
        "# Directly read data with keywords and cleaned by removing 95% similarity context"
      ],
      "metadata": {
        "id": "DNQ6foRUO_qk"
      }
    },
    {
      "cell_type": "code",
      "source": [
        "khc_news_keys = pd.read_excel('/content/drive/MyDrive/Zeno/khc_H1_0824.xlsx')"
      ],
      "metadata": {
        "id": "64xrNf40PJoz"
      },
      "execution_count": null,
      "outputs": []
    },
    {
      "cell_type": "code",
      "source": [
        "khc_news_keys.shape[0]"
      ],
      "metadata": {
        "colab": {
          "base_uri": "https://localhost:8080/"
        },
        "id": "GhxuZihjQ0GC",
        "outputId": "98c24224-e6b3-45f3-8d08-8c67c92189c9"
      },
      "execution_count": null,
      "outputs": [
        {
          "output_type": "execute_result",
          "data": {
            "text/plain": [
              "2883"
            ]
          },
          "metadata": {},
          "execution_count": 81
        }
      ]
    },
    {
      "cell_type": "markdown",
      "source": [
        "# Sum: BERTSum"
      ],
      "metadata": {
        "id": "4tTPpfNG84BS"
      }
    },
    {
      "cell_type": "code",
      "source": [
        "test_khc_df_n1000 = khc_df_n1000.iloc[:10,:]"
      ],
      "metadata": {
        "id": "bqZQ67p-CxPj"
      },
      "execution_count": null,
      "outputs": []
    },
    {
      "cell_type": "code",
      "source": [
        "import pandas as pd\n",
        "import tensorflow as tf\n",
        "from transformers import T5ForConditionalGeneration, T5Tokenizer\n",
        "\n",
        "# Load the T5 model and tokenizer\n",
        "model_name = \"t5-small\"\n",
        "model = T5ForConditionalGeneration.from_pretrained(model_name)\n",
        "tokenizer = T5Tokenizer.from_pretrained(model_name)\n",
        "\n",
        "# Load and preprocess the data\n",
        "data = test_khc_df_n1000[\"content\"].tolist()\n",
        "batch_size = 8\n",
        "\n",
        "input_data = [f\"summarize: {item}\" for item in data]\n",
        "tokenized_data = tokenizer.batch_encode_plus(input_data, padding=True, truncation=True, return_tensors=\"pt\", max_length=256)\n",
        "input_ids = tokenized_data[\"input_ids\"].numpy().tolist()\n",
        "attention_mask = tokenized_data[\"attention_mask\"].numpy().tolist()\n",
        "\n",
        "dataloader = tf.data.Dataset.from_tensor_slices((input_ids, attention_mask)).batch(batch_size)\n",
        "\n",
        "# Generate summaries and save to a new column\n",
        "summaries = []\n",
        "\n",
        "for batch in dataloader:\n",
        "    batch_input_ids, batch_attention_mask = batch\n",
        "    summary_ids = model.generate(tf.convert_to_tensor(batch_input_ids), attention_mask=tf.convert_to_tensor(batch_attention_mask), max_length=100, num_beams=4, early_stopping=True)\n",
        "    batch_summaries = tokenizer.batch_decode(summary_ids, skip_special_tokens=True)  # Directly decode summaries\n",
        "    summaries.extend(batch_summaries)\n",
        "\n",
        "# Limit summaries to 100 words\n",
        "max_summary_length = 100\n",
        "for i in range(len(summaries)):\n",
        "    summary_words = summaries[i].split()\n",
        "    if len(summary_words) > max_summary_length:\n",
        "        summaries[i] = ' '.join(summary_words[:max_summary_length])\n",
        "\n",
        "# Add summaries to the DataFrame\n",
        "test_khc_df_n1000[\"summary\"] = summaries\n"
      ],
      "metadata": {
        "id": "cuIiqbw0LHvB"
      },
      "execution_count": null,
      "outputs": []
    },
    {
      "cell_type": "code",
      "source": [
        "import pandas as pd\n",
        "import numpy as np\n",
        "import tensorflow as tf\n",
        "from transformers import BartTokenizer, TFBartForConditionalGeneration\n",
        "\n",
        "# Load BART model and tokenizer\n",
        "model_name = 'facebook/bart-large-cnn'\n",
        "tokenizer = BartTokenizer.from_pretrained(model_name)\n",
        "bart_model = TFBartForConditionalGeneration.from_pretrained(model_name)\n",
        "\n",
        "# Load your DataFrame\n",
        "# khc_df_n1000 = pd.read_csv(\"your_data.csv\")\n",
        "\n",
        "# Preprocess the content\n",
        "texts = test_khc_df_n1000[\"content\"].tolist()\n",
        "\n",
        "# Batch size for processing\n",
        "batch_size = 4\n",
        "max_summary_length = 100  # Maximum length of the summary in tokens\n",
        "\n",
        "# Calculate the number of batches\n",
        "num_samples = len(texts)\n",
        "num_batches = int(np.ceil(num_samples / batch_size))\n",
        "\n",
        "# Initialize an empty list to store summaries\n",
        "all_summaries = []\n",
        "\n",
        "# Process the data in batches\n",
        "for i in range(num_batches):\n",
        "    start_idx = i * batch_size\n",
        "    end_idx = min((i + 1) * batch_size, num_samples)\n",
        "\n",
        "    batch_texts = texts[start_idx:end_idx]\n",
        "    batch_encoded_texts = tokenizer(batch_texts, padding=True, truncation=True, return_tensors='tf', max_length=512)\n",
        "\n",
        "    # Generate summaries with length constraint\n",
        "    batch_summary_ids = bart_model.generate(**batch_encoded_texts, max_length=max_summary_length)\n",
        "\n",
        "    batch_summaries = [tokenizer.decode(summary_id, skip_special_tokens=True) for summary_id in batch_summary_ids]\n",
        "    all_summaries.extend(batch_summaries)\n",
        "\n",
        "# Add the summaries to the DataFrame\n",
        "test_khc_df_n1000[\"summary\"] = all_summaries\n",
        "\n",
        "# Save the DataFrame with summaries\n",
        "# khc_df_n1000.to_csv(\"your_processed_data_with_summaries.csv\", index=False)\n"
      ],
      "metadata": {
        "id": "YlODDwdZGmVw"
      },
      "execution_count": null,
      "outputs": []
    },
    {
      "cell_type": "code",
      "source": [
        "test_khc_df_n1000"
      ],
      "metadata": {
        "id": "_fUlteK1_ern"
      },
      "execution_count": null,
      "outputs": []
    },
    {
      "cell_type": "markdown",
      "source": [
        "# Sum: BART"
      ],
      "metadata": {
        "id": "cTz9ddCdH51H"
      }
    },
    {
      "cell_type": "code",
      "source": [
        "#!pip3 install transformers\n",
        "from transformers import BartTokenizer, BartForConditionalGeneration\n",
        "import tensorflow as tf"
      ],
      "metadata": {
        "id": "vfAeN5rjNT_G"
      },
      "execution_count": null,
      "outputs": []
    },
    {
      "cell_type": "code",
      "source": [
        "model_name = \"facebook/bart-large-xsum\" #\"facebook/bart-large-cnn\"\n",
        "tokenizer = BartTokenizer.from_pretrained(model_name)\n",
        "model = BartForConditionalGeneration.from_pretrained(model_name)"
      ],
      "metadata": {
        "id": "dn0Oy1QRNpNC"
      },
      "execution_count": null,
      "outputs": []
    },
    {
      "cell_type": "code",
      "source": [
        "# define a function to generate summaries using BART for a batch of texts\n",
        "def generate_summaries_batch(texts):\n",
        "    inputs = tokenizer.batch_encode_plus(texts, return_tensors=\"pt\", max_length=1024, truncation=True, padding=True)\n",
        "    summary_ids = model.generate(inputs[\"input_ids\"], max_length=100, min_length=30, length_penalty=2.0, num_beams=6, no_repeat_ngram_size=2, early_stopping=True)\n",
        "    summaries = [tokenizer.decode(summary, skip_special_tokens=True) for summary in summary_ids]\n",
        "    return summaries"
      ],
      "metadata": {
        "id": "hUx1is0xRohl"
      },
      "execution_count": null,
      "outputs": []
    },
    {
      "cell_type": "code",
      "source": [
        "khc_sum_n100 = khc_news_keys.iloc[:100,:]"
      ],
      "metadata": {
        "id": "34cau5My_iLr"
      },
      "execution_count": null,
      "outputs": []
    },
    {
      "cell_type": "code",
      "source": [
        "khc_sum_n100.iloc[:,[5,-1]]"
      ],
      "metadata": {
        "id": "XGLubDcl_uRp"
      },
      "execution_count": null,
      "outputs": []
    },
    {
      "cell_type": "code",
      "source": [
        "# batch size for processing multiple texts at once\n",
        "batch_size = 4\n",
        "\n",
        "# create batches of texts for summarization\n",
        "text_batches = [khc_sum_n100[\"content\"][i:i+batch_size].tolist() for i in range(0, len(khc_sum_n100), batch_size)]\n",
        "\n",
        "# generate summaries for each batch and concatenate the results\n",
        "summaries = []\n",
        "for batch in text_batches:\n",
        "    batch_summaries = generate_summaries_batch(batch)\n",
        "    summaries.extend(batch_summaries)"
      ],
      "metadata": {
        "id": "keopb_LRRqYG"
      },
      "execution_count": null,
      "outputs": []
    },
    {
      "cell_type": "code",
      "source": [
        "# Add the summaries to the DataFrame\n",
        "khc_sum_n100[\"bart_summary\"] = summaries"
      ],
      "metadata": {
        "colab": {
          "base_uri": "https://localhost:8080/"
        },
        "id": "FR4s9z2pH44m",
        "outputId": "92709a7f-875d-49e6-928d-55d2c57485ca"
      },
      "execution_count": null,
      "outputs": [
        {
          "output_type": "stream",
          "name": "stderr",
          "text": [
            "<ipython-input-92-8b041890191f>:2: SettingWithCopyWarning: \n",
            "A value is trying to be set on a copy of a slice from a DataFrame.\n",
            "Try using .loc[row_indexer,col_indexer] = value instead\n",
            "\n",
            "See the caveats in the documentation: https://pandas.pydata.org/pandas-docs/stable/user_guide/indexing.html#returning-a-view-versus-a-copy\n",
            "  khc_sum_n100[\"bart_summary\"] = summaries\n"
          ]
        }
      ]
    },
    {
      "cell_type": "code",
      "source": [
        "khc_sum_n100.iloc[:,[5,-1]]"
      ],
      "metadata": {
        "id": "Rwlm0INkMd_Z"
      },
      "execution_count": null,
      "outputs": []
    },
    {
      "cell_type": "code",
      "source": [
        "# save to new excel file\n",
        "khc_sum_n100.to_excel('/content/drive/MyDrive/Zeno/news_w_sum/khc_H1_khc_n100_BARTxsum.xlsx', index=False)"
      ],
      "metadata": {
        "id": "ngLgUrjzLvKu"
      },
      "execution_count": null,
      "outputs": []
    },
    {
      "cell_type": "markdown",
      "metadata": {
        "id": "CCDVSsEdojyV"
      },
      "source": [
        "# Sentiment: Flair"
      ]
    },
    {
      "cell_type": "markdown",
      "metadata": {
        "id": "m9YoiG1xqVLe"
      },
      "source": [
        "--- Flair pre-trained model (non-labeled data) ---"
      ]
    },
    {
      "cell_type": "markdown",
      "metadata": {
        "id": "EUyqXxg2Gzza"
      },
      "source": [
        "--- 1000 rows takes approximately 20 mins ---"
      ]
    },
    {
      "cell_type": "code",
      "execution_count": null,
      "metadata": {
        "id": "x9eI-leY27td"
      },
      "outputs": [],
      "source": [
        "#!pip3 install flair\n",
        "from flair.models import TextClassifier\n",
        "from flair.data import Sentence\n",
        "import multiprocessing"
      ]
    },
    {
      "cell_type": "code",
      "execution_count": null,
      "metadata": {
        "id": "NL_Qh-8Y27v-"
      },
      "outputs": [],
      "source": [
        "# load the classifier outside the function to avoid loading it multiple times\n",
        "classifier = TextClassifier.load('en-sentiment')"
      ]
    },
    {
      "cell_type": "code",
      "execution_count": null,
      "metadata": {
        "id": "fgjLF1e-27ye"
      },
      "outputs": [],
      "source": [
        "# mapping from flair sentiment labels to preferred sentiment labels\n",
        "flair_to_preferred_mapping = {\n",
        "    'POSITIVE': 'positive',\n",
        "    'NEGATIVE': 'negative',\n",
        "    'NEUTRAL': 'neutral'\n",
        "}"
      ]
    },
    {
      "cell_type": "code",
      "execution_count": null,
      "metadata": {
        "id": "h-2LkyBY270y"
      },
      "outputs": [],
      "source": [
        "# function to predict sentiment and score for a list of texts\n",
        "def predict_sentiments(texts):\n",
        "    sentences = [Sentence(text) for text in texts]\n",
        "    classifier.predict(sentences)\n",
        "\n",
        "    predicted_sentiments = []\n",
        "    sentiment_scores = []\n",
        "\n",
        "    for sentence in sentences:\n",
        "        if sentence.labels:\n",
        "            sentiment = sentence.labels[0].value\n",
        "            score = sentence.labels[0].score\n",
        "        else:\n",
        "            sentiment = 'NEUTRAL'\n",
        "            score = 0.0\n",
        "\n",
        "        predicted_sentiments.append(sentiment)\n",
        "        sentiment_scores.append(score)\n",
        "\n",
        "    return [\n",
        "        (\n",
        "            flair_to_preferred_mapping.get(sentiment, 'neutral'),\n",
        "            score\n",
        "        ) for sentiment, score in zip(predicted_sentiments, sentiment_scores)\n",
        "    ]"
      ]
    },
    {
      "cell_type": "code",
      "execution_count": null,
      "metadata": {
        "id": "fjPYVKu2273P"
      },
      "outputs": [],
      "source": [
        "# split the texts into chunks for parallel processing\n",
        "def chunks(lst, n):\n",
        "    for i in range(0, len(lst), n):\n",
        "        yield lst[i:i + n]"
      ]
    },
    {
      "cell_type": "code",
      "execution_count": null,
      "metadata": {
        "id": "O2OOqji1275y"
      },
      "outputs": [],
      "source": [
        "# number of CPU cores available\n",
        "num_cores = multiprocessing.cpu_count()"
      ]
    },
    {
      "cell_type": "code",
      "execution_count": null,
      "metadata": {
        "id": "pbjPO1fFyyc-"
      },
      "outputs": [],
      "source": [
        "# split the data into chunks for parallel processing\n",
        "texts_list = list(chunks(khc_df_n4000['content'].tolist(), len(khc_df_n4000) // num_cores))\n",
        "\n",
        "# init a pool of workers for multiprocessing\n",
        "pool = multiprocessing.Pool(processes=num_cores)\n",
        "\n",
        "# predict sentiments in parallel using multiprocessing and vectorized operations\n",
        "predicted_sentiments_list = pool.map(predict_sentiments, texts_list)\n",
        "\n",
        "# concatenate the results from all chunks into a single list\n",
        "predicted_sentiments = [sentiment for sublist in predicted_sentiments_list for sentiment in sublist]\n",
        "\n",
        "# assign the predicted sentiments and scores to df\n",
        "khc_df_n4000['flair_sentiment'], khc_df_n4000['flair_sentiment_score'] = zip(*predicted_sentiments)"
      ]
    },
    {
      "cell_type": "code",
      "execution_count": null,
      "metadata": {
        "id": "MbrO2DLP2CSN"
      },
      "outputs": [],
      "source": [
        "khc_df_n2000.tail()"
      ]
    },
    {
      "cell_type": "code",
      "source": [
        "khc_df_n4000.to_excel('/content/drive/MyDrive/Zeno/news_w_sentiment/khc_H1_khc_n4000_sentiment.xlsx', index=False)"
      ],
      "metadata": {
        "id": "kxXTnTgj1eih"
      },
      "execution_count": null,
      "outputs": []
    },
    {
      "cell_type": "markdown",
      "metadata": {
        "id": "HeOLs4rX8g7i"
      },
      "source": [
        "# Check sentiment quality"
      ]
    },
    {
      "cell_type": "code",
      "execution_count": null,
      "metadata": {
        "colab": {
          "base_uri": "https://localhost:8080/"
        },
        "id": "r5sN90Ps8m2H",
        "outputId": "994be740-ddec-4cf2-de38-1d30afab6ba8"
      },
      "outputs": [
        {
          "output_type": "execute_result",
          "data": {
            "text/plain": [
              "array(['negative', 'positive'], dtype=object)"
            ]
          },
          "metadata": {},
          "execution_count": 20
        }
      ],
      "source": [
        "# check unique output\n",
        "khc_df_n1000['flair_sentiment'].unique()"
      ]
    },
    {
      "cell_type": "code",
      "execution_count": null,
      "metadata": {
        "colab": {
          "base_uri": "https://localhost:8080/"
        },
        "id": "j6HK7eDX4DQV",
        "outputId": "a41f54d0-6d7a-4d67-b6b5-bc4c201509f3"
      },
      "outputs": [
        {
          "output_type": "execute_result",
          "data": {
            "text/plain": [
              "False"
            ]
          },
          "metadata": {},
          "execution_count": 21
        }
      ],
      "source": [
        "# check on neutral prediction\n",
        "khc_df_n1000['flair_sentiment'].str.contains('neutral', case=False).any()"
      ]
    },
    {
      "cell_type": "code",
      "execution_count": null,
      "metadata": {
        "colab": {
          "base_uri": "https://localhost:8080/",
          "height": 177
        },
        "id": "hh21YWrz4YcV",
        "outputId": "0fc87356-4f89-458a-e36a-94169d7cda1e"
      },
      "outputs": [
        {
          "data": {
            "text/html": [
              "\n",
              "\n",
              "  <div id=\"df-537baa37-2492-4812-8177-27fd1ea07490\">\n",
              "    <div class=\"colab-df-container\">\n",
              "      <div>\n",
              "<style scoped>\n",
              "    .dataframe tbody tr th:only-of-type {\n",
              "        vertical-align: middle;\n",
              "    }\n",
              "\n",
              "    .dataframe tbody tr th {\n",
              "        vertical-align: top;\n",
              "    }\n",
              "\n",
              "    .dataframe thead th {\n",
              "        text-align: right;\n",
              "    }\n",
              "</style>\n",
              "<table border=\"1\" class=\"dataframe\">\n",
              "  <thead>\n",
              "    <tr style=\"text-align: right;\">\n",
              "      <th></th>\n",
              "      <th>id</th>\n",
              "      <th>search</th>\n",
              "      <th>source</th>\n",
              "      <th>application</th>\n",
              "      <th>title</th>\n",
              "      <th>content</th>\n",
              "      <th>date</th>\n",
              "      <th>parent</th>\n",
              "      <th>language</th>\n",
              "      <th>url</th>\n",
              "      <th>...</th>\n",
              "      <th>human rights</th>\n",
              "      <th>labor practices</th>\n",
              "      <th>community and society</th>\n",
              "      <th>workforce protection</th>\n",
              "      <th>local content</th>\n",
              "      <th>post subtype</th>\n",
              "      <th>post type</th>\n",
              "      <th>keywords</th>\n",
              "      <th>flair_sentiment</th>\n",
              "      <th>flair_sentiment_score</th>\n",
              "    </tr>\n",
              "  </thead>\n",
              "  <tbody>\n",
              "  </tbody>\n",
              "</table>\n",
              "<p>0 rows × 67 columns</p>\n",
              "</div>\n",
              "      <button class=\"colab-df-convert\" onclick=\"convertToInteractive('df-537baa37-2492-4812-8177-27fd1ea07490')\"\n",
              "              title=\"Convert this dataframe to an interactive table.\"\n",
              "              style=\"display:none;\">\n",
              "\n",
              "  <svg xmlns=\"http://www.w3.org/2000/svg\" height=\"24px\"viewBox=\"0 0 24 24\"\n",
              "       width=\"24px\">\n",
              "    <path d=\"M0 0h24v24H0V0z\" fill=\"none\"/>\n",
              "    <path d=\"M18.56 5.44l.94 2.06.94-2.06 2.06-.94-2.06-.94-.94-2.06-.94 2.06-2.06.94zm-11 1L8.5 8.5l.94-2.06 2.06-.94-2.06-.94L8.5 2.5l-.94 2.06-2.06.94zm10 10l.94 2.06.94-2.06 2.06-.94-2.06-.94-.94-2.06-.94 2.06-2.06.94z\"/><path d=\"M17.41 7.96l-1.37-1.37c-.4-.4-.92-.59-1.43-.59-.52 0-1.04.2-1.43.59L10.3 9.45l-7.72 7.72c-.78.78-.78 2.05 0 2.83L4 21.41c.39.39.9.59 1.41.59.51 0 1.02-.2 1.41-.59l7.78-7.78 2.81-2.81c.8-.78.8-2.07 0-2.86zM5.41 20L4 18.59l7.72-7.72 1.47 1.35L5.41 20z\"/>\n",
              "  </svg>\n",
              "      </button>\n",
              "\n",
              "\n",
              "\n",
              "    <div id=\"df-d84c7331-00ed-4604-82ff-1710722b21a8\">\n",
              "      <button class=\"colab-df-quickchart\" onclick=\"quickchart('df-d84c7331-00ed-4604-82ff-1710722b21a8')\"\n",
              "              title=\"Suggest charts.\"\n",
              "              style=\"display:none;\">\n",
              "\n",
              "<svg xmlns=\"http://www.w3.org/2000/svg\" height=\"24px\"viewBox=\"0 0 24 24\"\n",
              "     width=\"24px\">\n",
              "    <g>\n",
              "        <path d=\"M19 3H5c-1.1 0-2 .9-2 2v14c0 1.1.9 2 2 2h14c1.1 0 2-.9 2-2V5c0-1.1-.9-2-2-2zM9 17H7v-7h2v7zm4 0h-2V7h2v10zm4 0h-2v-4h2v4z\"/>\n",
              "    </g>\n",
              "</svg>\n",
              "      </button>\n",
              "    </div>\n",
              "\n",
              "<style>\n",
              "  .colab-df-quickchart {\n",
              "    background-color: #E8F0FE;\n",
              "    border: none;\n",
              "    border-radius: 50%;\n",
              "    cursor: pointer;\n",
              "    display: none;\n",
              "    fill: #1967D2;\n",
              "    height: 32px;\n",
              "    padding: 0 0 0 0;\n",
              "    width: 32px;\n",
              "  }\n",
              "\n",
              "  .colab-df-quickchart:hover {\n",
              "    background-color: #E2EBFA;\n",
              "    box-shadow: 0px 1px 2px rgba(60, 64, 67, 0.3), 0px 1px 3px 1px rgba(60, 64, 67, 0.15);\n",
              "    fill: #174EA6;\n",
              "  }\n",
              "\n",
              "  [theme=dark] .colab-df-quickchart {\n",
              "    background-color: #3B4455;\n",
              "    fill: #D2E3FC;\n",
              "  }\n",
              "\n",
              "  [theme=dark] .colab-df-quickchart:hover {\n",
              "    background-color: #434B5C;\n",
              "    box-shadow: 0px 1px 3px 1px rgba(0, 0, 0, 0.15);\n",
              "    filter: drop-shadow(0px 1px 2px rgba(0, 0, 0, 0.3));\n",
              "    fill: #FFFFFF;\n",
              "  }\n",
              "</style>\n",
              "\n",
              "    <script>\n",
              "      async function quickchart(key) {\n",
              "        const containerElement = document.querySelector('#' + key);\n",
              "        const charts = await google.colab.kernel.invokeFunction(\n",
              "            'suggestCharts', [key], {});\n",
              "      }\n",
              "    </script>\n",
              "\n",
              "      <script>\n",
              "\n",
              "function displayQuickchartButton(domScope) {\n",
              "  let quickchartButtonEl =\n",
              "    domScope.querySelector('#df-d84c7331-00ed-4604-82ff-1710722b21a8 button.colab-df-quickchart');\n",
              "  quickchartButtonEl.style.display =\n",
              "    google.colab.kernel.accessAllowed ? 'block' : 'none';\n",
              "}\n",
              "\n",
              "        displayQuickchartButton(document);\n",
              "      </script>\n",
              "      <style>\n",
              "    .colab-df-container {\n",
              "      display:flex;\n",
              "      flex-wrap:wrap;\n",
              "      gap: 12px;\n",
              "    }\n",
              "\n",
              "    .colab-df-convert {\n",
              "      background-color: #E8F0FE;\n",
              "      border: none;\n",
              "      border-radius: 50%;\n",
              "      cursor: pointer;\n",
              "      display: none;\n",
              "      fill: #1967D2;\n",
              "      height: 32px;\n",
              "      padding: 0 0 0 0;\n",
              "      width: 32px;\n",
              "    }\n",
              "\n",
              "    .colab-df-convert:hover {\n",
              "      background-color: #E2EBFA;\n",
              "      box-shadow: 0px 1px 2px rgba(60, 64, 67, 0.3), 0px 1px 3px 1px rgba(60, 64, 67, 0.15);\n",
              "      fill: #174EA6;\n",
              "    }\n",
              "\n",
              "    [theme=dark] .colab-df-convert {\n",
              "      background-color: #3B4455;\n",
              "      fill: #D2E3FC;\n",
              "    }\n",
              "\n",
              "    [theme=dark] .colab-df-convert:hover {\n",
              "      background-color: #434B5C;\n",
              "      box-shadow: 0px 1px 3px 1px rgba(0, 0, 0, 0.15);\n",
              "      filter: drop-shadow(0px 1px 2px rgba(0, 0, 0, 0.3));\n",
              "      fill: #FFFFFF;\n",
              "    }\n",
              "  </style>\n",
              "\n",
              "      <script>\n",
              "        const buttonEl =\n",
              "          document.querySelector('#df-537baa37-2492-4812-8177-27fd1ea07490 button.colab-df-convert');\n",
              "        buttonEl.style.display =\n",
              "          google.colab.kernel.accessAllowed ? 'block' : 'none';\n",
              "\n",
              "        async function convertToInteractive(key) {\n",
              "          const element = document.querySelector('#df-537baa37-2492-4812-8177-27fd1ea07490');\n",
              "          const dataTable =\n",
              "            await google.colab.kernel.invokeFunction('convertToInteractive',\n",
              "                                                     [key], {});\n",
              "          if (!dataTable) return;\n",
              "\n",
              "          const docLinkHtml = 'Like what you see? Visit the ' +\n",
              "            '<a target=\"_blank\" href=https://colab.research.google.com/notebooks/data_table.ipynb>data table notebook</a>'\n",
              "            + ' to learn more about interactive tables.';\n",
              "          element.innerHTML = '';\n",
              "          dataTable['output_type'] = 'display_data';\n",
              "          await google.colab.output.renderOutput(dataTable, element);\n",
              "          const docLink = document.createElement('div');\n",
              "          docLink.innerHTML = docLinkHtml;\n",
              "          element.appendChild(docLink);\n",
              "        }\n",
              "      </script>\n",
              "    </div>\n",
              "  </div>\n"
            ],
            "text/plain": [
              "Empty DataFrame\n",
              "Columns: [id, search, source, application, title, content, date, parent, language, url, parent source identifier, domain, credibility, credibility score, topics, image tags, tags, sentiment, sentiment class, sentiment by, main emotion, visibility, potential impressions, actual impressions, ave, duration, circulation, city, country, latitude, longitude, user city, user country, user latitude, user longitude, no. of followers, no. of friends, gender, bio, user views, links url, no. of comments, no. of likes, no. of shares, no. of retweets, no. of views, user name, user screen name, user source id, eRep, CSR, trust, CX, intensity, climate change, environmental impact, biodiversity, human rights, labor practices, community and society, workforce protection, local content, post subtype, post type, keywords, flair_sentiment, flair_sentiment_score]\n",
              "Index: []\n",
              "\n",
              "[0 rows x 67 columns]"
            ]
          },
          "execution_count": 47,
          "metadata": {},
          "output_type": "execute_result"
        }
      ],
      "source": [
        "neutral_df = khc_df_n1000[khc_df_n1000['flair_sentiment'] == 'neutral']\n",
        "neutral_df.head()"
      ]
    },
    {
      "cell_type": "code",
      "execution_count": null,
      "metadata": {
        "colab": {
          "base_uri": "https://localhost:8080/"
        },
        "id": "HrskIwCB8k9W",
        "outputId": "69d71a3e-c406-4e2c-da93-b2eddc4fa9b8"
      },
      "outputs": [
        {
          "data": {
            "text/plain": [
              "182"
            ]
          },
          "execution_count": 48,
          "metadata": {},
          "output_type": "execute_result"
        }
      ],
      "source": [
        "# check the score\n",
        "low_df = khc_df_tw[khc_df_tw['flair_sentiment_score'] < 0.7]\n",
        "low_df.shape[0]"
      ]
    },
    {
      "cell_type": "code",
      "execution_count": null,
      "metadata": {
        "colab": {
          "base_uri": "https://localhost:8080/",
          "height": 918
        },
        "id": "bQNV0TqolJcg",
        "outputId": "c86d8c9d-9a6c-40f6-bb5e-8208714ddc21"
      },
      "outputs": [
        {
          "data": {
            "text/html": [
              "\n",
              "\n",
              "  <div id=\"df-e0df22e5-4b5d-4cb4-9341-e59d09d619f2\">\n",
              "    <div class=\"colab-df-container\">\n",
              "      <div>\n",
              "<style scoped>\n",
              "    .dataframe tbody tr th:only-of-type {\n",
              "        vertical-align: middle;\n",
              "    }\n",
              "\n",
              "    .dataframe tbody tr th {\n",
              "        vertical-align: top;\n",
              "    }\n",
              "\n",
              "    .dataframe thead th {\n",
              "        text-align: right;\n",
              "    }\n",
              "</style>\n",
              "<table border=\"1\" class=\"dataframe\">\n",
              "  <thead>\n",
              "    <tr style=\"text-align: right;\">\n",
              "      <th></th>\n",
              "      <th>content</th>\n",
              "      <th>flair_sentiment</th>\n",
              "      <th>flair_sentiment_score</th>\n",
              "    </tr>\n",
              "  </thead>\n",
              "  <tbody>\n",
              "    <tr>\n",
              "      <th>14</th>\n",
              "      <td>Buffett praising $COST's Kirkland brand. He st...</td>\n",
              "      <td>positive</td>\n",
              "      <td>0.500105</td>\n",
              "    </tr>\n",
              "    <tr>\n",
              "      <th>17</th>\n",
              "      <td>It's your problem you took it any other way!...</td>\n",
              "      <td>negative</td>\n",
              "      <td>0.657860</td>\n",
              "    </tr>\n",
              "    <tr>\n",
              "      <th>43</th>\n",
              "      <td>Lord Cornwallis: {{short description|1955 film...</td>\n",
              "      <td>positive</td>\n",
              "      <td>0.610610</td>\n",
              "    </tr>\n",
              "    <tr>\n",
              "      <th>84</th>\n",
              "      <td>Heinz say:Because of its natural acidity, Hei...</td>\n",
              "      <td>positive</td>\n",
              "      <td>0.603075</td>\n",
              "    </tr>\n",
              "    <tr>\n",
              "      <th>91</th>\n",
              "      <td>Today on Garret Lewis i spoke about happened a...</td>\n",
              "      <td>negative</td>\n",
              "      <td>0.690468</td>\n",
              "    </tr>\n",
              "    <tr>\n",
              "      <th>...</th>\n",
              "      <td>...</td>\n",
              "      <td>...</td>\n",
              "      <td>...</td>\n",
              "    </tr>\n",
              "    <tr>\n",
              "      <th>2921</th>\n",
              "      <td>Sometimes! If it is quality stuff.Not Heinz.</td>\n",
              "      <td>negative</td>\n",
              "      <td>0.527366</td>\n",
              "    </tr>\n",
              "    <tr>\n",
              "      <th>2950</th>\n",
              "      <td>This looks like a food security marker.Heinz ...</td>\n",
              "      <td>negative</td>\n",
              "      <td>0.562701</td>\n",
              "    </tr>\n",
              "    <tr>\n",
              "      <th>2954</th>\n",
              "      <td>Freelance creative director, Elliott Starr, wa...</td>\n",
              "      <td>negative</td>\n",
              "      <td>0.637750</td>\n",
              "    </tr>\n",
              "    <tr>\n",
              "      <th>2988</th>\n",
              "      <td>For real.  You'd have to challenge in court (...</td>\n",
              "      <td>negative</td>\n",
              "      <td>0.585367</td>\n",
              "    </tr>\n",
              "    <tr>\n",
              "      <th>2993</th>\n",
              "      <td>Cause whet is de problem with a lil miracle w...</td>\n",
              "      <td>negative</td>\n",
              "      <td>0.678862</td>\n",
              "    </tr>\n",
              "  </tbody>\n",
              "</table>\n",
              "<p>182 rows × 3 columns</p>\n",
              "</div>\n",
              "      <button class=\"colab-df-convert\" onclick=\"convertToInteractive('df-e0df22e5-4b5d-4cb4-9341-e59d09d619f2')\"\n",
              "              title=\"Convert this dataframe to an interactive table.\"\n",
              "              style=\"display:none;\">\n",
              "\n",
              "  <svg xmlns=\"http://www.w3.org/2000/svg\" height=\"24px\"viewBox=\"0 0 24 24\"\n",
              "       width=\"24px\">\n",
              "    <path d=\"M0 0h24v24H0V0z\" fill=\"none\"/>\n",
              "    <path d=\"M18.56 5.44l.94 2.06.94-2.06 2.06-.94-2.06-.94-.94-2.06-.94 2.06-2.06.94zm-11 1L8.5 8.5l.94-2.06 2.06-.94-2.06-.94L8.5 2.5l-.94 2.06-2.06.94zm10 10l.94 2.06.94-2.06 2.06-.94-2.06-.94-.94-2.06-.94 2.06-2.06.94z\"/><path d=\"M17.41 7.96l-1.37-1.37c-.4-.4-.92-.59-1.43-.59-.52 0-1.04.2-1.43.59L10.3 9.45l-7.72 7.72c-.78.78-.78 2.05 0 2.83L4 21.41c.39.39.9.59 1.41.59.51 0 1.02-.2 1.41-.59l7.78-7.78 2.81-2.81c.8-.78.8-2.07 0-2.86zM5.41 20L4 18.59l7.72-7.72 1.47 1.35L5.41 20z\"/>\n",
              "  </svg>\n",
              "      </button>\n",
              "\n",
              "\n",
              "\n",
              "    <div id=\"df-f31162d8-3251-4a28-8aa0-15a8bbb6f314\">\n",
              "      <button class=\"colab-df-quickchart\" onclick=\"quickchart('df-f31162d8-3251-4a28-8aa0-15a8bbb6f314')\"\n",
              "              title=\"Suggest charts.\"\n",
              "              style=\"display:none;\">\n",
              "\n",
              "<svg xmlns=\"http://www.w3.org/2000/svg\" height=\"24px\"viewBox=\"0 0 24 24\"\n",
              "     width=\"24px\">\n",
              "    <g>\n",
              "        <path d=\"M19 3H5c-1.1 0-2 .9-2 2v14c0 1.1.9 2 2 2h14c1.1 0 2-.9 2-2V5c0-1.1-.9-2-2-2zM9 17H7v-7h2v7zm4 0h-2V7h2v10zm4 0h-2v-4h2v4z\"/>\n",
              "    </g>\n",
              "</svg>\n",
              "      </button>\n",
              "    </div>\n",
              "\n",
              "<style>\n",
              "  .colab-df-quickchart {\n",
              "    background-color: #E8F0FE;\n",
              "    border: none;\n",
              "    border-radius: 50%;\n",
              "    cursor: pointer;\n",
              "    display: none;\n",
              "    fill: #1967D2;\n",
              "    height: 32px;\n",
              "    padding: 0 0 0 0;\n",
              "    width: 32px;\n",
              "  }\n",
              "\n",
              "  .colab-df-quickchart:hover {\n",
              "    background-color: #E2EBFA;\n",
              "    box-shadow: 0px 1px 2px rgba(60, 64, 67, 0.3), 0px 1px 3px 1px rgba(60, 64, 67, 0.15);\n",
              "    fill: #174EA6;\n",
              "  }\n",
              "\n",
              "  [theme=dark] .colab-df-quickchart {\n",
              "    background-color: #3B4455;\n",
              "    fill: #D2E3FC;\n",
              "  }\n",
              "\n",
              "  [theme=dark] .colab-df-quickchart:hover {\n",
              "    background-color: #434B5C;\n",
              "    box-shadow: 0px 1px 3px 1px rgba(0, 0, 0, 0.15);\n",
              "    filter: drop-shadow(0px 1px 2px rgba(0, 0, 0, 0.3));\n",
              "    fill: #FFFFFF;\n",
              "  }\n",
              "</style>\n",
              "\n",
              "    <script>\n",
              "      async function quickchart(key) {\n",
              "        const containerElement = document.querySelector('#' + key);\n",
              "        const charts = await google.colab.kernel.invokeFunction(\n",
              "            'suggestCharts', [key], {});\n",
              "      }\n",
              "    </script>\n",
              "\n",
              "      <script>\n",
              "\n",
              "function displayQuickchartButton(domScope) {\n",
              "  let quickchartButtonEl =\n",
              "    domScope.querySelector('#df-f31162d8-3251-4a28-8aa0-15a8bbb6f314 button.colab-df-quickchart');\n",
              "  quickchartButtonEl.style.display =\n",
              "    google.colab.kernel.accessAllowed ? 'block' : 'none';\n",
              "}\n",
              "\n",
              "        displayQuickchartButton(document);\n",
              "      </script>\n",
              "      <style>\n",
              "    .colab-df-container {\n",
              "      display:flex;\n",
              "      flex-wrap:wrap;\n",
              "      gap: 12px;\n",
              "    }\n",
              "\n",
              "    .colab-df-convert {\n",
              "      background-color: #E8F0FE;\n",
              "      border: none;\n",
              "      border-radius: 50%;\n",
              "      cursor: pointer;\n",
              "      display: none;\n",
              "      fill: #1967D2;\n",
              "      height: 32px;\n",
              "      padding: 0 0 0 0;\n",
              "      width: 32px;\n",
              "    }\n",
              "\n",
              "    .colab-df-convert:hover {\n",
              "      background-color: #E2EBFA;\n",
              "      box-shadow: 0px 1px 2px rgba(60, 64, 67, 0.3), 0px 1px 3px 1px rgba(60, 64, 67, 0.15);\n",
              "      fill: #174EA6;\n",
              "    }\n",
              "\n",
              "    [theme=dark] .colab-df-convert {\n",
              "      background-color: #3B4455;\n",
              "      fill: #D2E3FC;\n",
              "    }\n",
              "\n",
              "    [theme=dark] .colab-df-convert:hover {\n",
              "      background-color: #434B5C;\n",
              "      box-shadow: 0px 1px 3px 1px rgba(0, 0, 0, 0.15);\n",
              "      filter: drop-shadow(0px 1px 2px rgba(0, 0, 0, 0.3));\n",
              "      fill: #FFFFFF;\n",
              "    }\n",
              "  </style>\n",
              "\n",
              "      <script>\n",
              "        const buttonEl =\n",
              "          document.querySelector('#df-e0df22e5-4b5d-4cb4-9341-e59d09d619f2 button.colab-df-convert');\n",
              "        buttonEl.style.display =\n",
              "          google.colab.kernel.accessAllowed ? 'block' : 'none';\n",
              "\n",
              "        async function convertToInteractive(key) {\n",
              "          const element = document.querySelector('#df-e0df22e5-4b5d-4cb4-9341-e59d09d619f2');\n",
              "          const dataTable =\n",
              "            await google.colab.kernel.invokeFunction('convertToInteractive',\n",
              "                                                     [key], {});\n",
              "          if (!dataTable) return;\n",
              "\n",
              "          const docLinkHtml = 'Like what you see? Visit the ' +\n",
              "            '<a target=\"_blank\" href=https://colab.research.google.com/notebooks/data_table.ipynb>data table notebook</a>'\n",
              "            + ' to learn more about interactive tables.';\n",
              "          element.innerHTML = '';\n",
              "          dataTable['output_type'] = 'display_data';\n",
              "          await google.colab.output.renderOutput(dataTable, element);\n",
              "          const docLink = document.createElement('div');\n",
              "          docLink.innerHTML = docLinkHtml;\n",
              "          element.appendChild(docLink);\n",
              "        }\n",
              "      </script>\n",
              "    </div>\n",
              "  </div>\n"
            ],
            "text/plain": [
              "                                                content flair_sentiment  \\\n",
              "14    Buffett praising $COST's Kirkland brand. He st...        positive   \n",
              "17      It's your problem you took it any other way!...        negative   \n",
              "43    Lord Cornwallis: {{short description|1955 film...        positive   \n",
              "84     Heinz say:Because of its natural acidity, Hei...        positive   \n",
              "91    Today on Garret Lewis i spoke about happened a...        negative   \n",
              "...                                                 ...             ...   \n",
              "2921       Sometimes! If it is quality stuff.Not Heinz.        negative   \n",
              "2950   This looks like a food security marker.Heinz ...        negative   \n",
              "2954  Freelance creative director, Elliott Starr, wa...        negative   \n",
              "2988   For real.  You'd have to challenge in court (...        negative   \n",
              "2993   Cause whet is de problem with a lil miracle w...        negative   \n",
              "\n",
              "      flair_sentiment_score  \n",
              "14                 0.500105  \n",
              "17                 0.657860  \n",
              "43                 0.610610  \n",
              "84                 0.603075  \n",
              "91                 0.690468  \n",
              "...                     ...  \n",
              "2921               0.527366  \n",
              "2950               0.562701  \n",
              "2954               0.637750  \n",
              "2988               0.585367  \n",
              "2993               0.678862  \n",
              "\n",
              "[182 rows x 3 columns]"
            ]
          },
          "execution_count": 49,
          "metadata": {},
          "output_type": "execute_result"
        }
      ],
      "source": [
        "low_df.iloc[:,[5,-2,-1]]"
      ]
    },
    {
      "cell_type": "markdown",
      "metadata": {
        "id": "7fykIIwumVGt"
      },
      "source": [
        "--- if sentiment score < 0.7 --> set to neutral ---"
      ]
    },
    {
      "cell_type": "code",
      "execution_count": null,
      "metadata": {
        "id": "jjUXdf6tmUN0"
      },
      "outputs": [],
      "source": [
        "#khc_df_tw.loc[khc_df_tw['flair_sentiment_score'] < 0.7, 'flair_sentiment'] = 'neutral'"
      ]
    },
    {
      "cell_type": "markdown",
      "metadata": {
        "id": "0UWRjlpdBKer"
      },
      "source": [
        "# Difference between Pulsar and Flair sentiment"
      ]
    },
    {
      "cell_type": "code",
      "execution_count": null,
      "metadata": {
        "id": "z77mXhFgxNEi"
      },
      "outputs": [],
      "source": [
        "# Twitter\n",
        "different_df = khc_df_n1000[khc_df_n1000['flair_sentiment'] != khc_df_n1000['sentiment class']]\n",
        "different_df = different_df.iloc[:, [0,5,18,-2,-1]]\n",
        "different_df"
      ]
    },
    {
      "cell_type": "markdown",
      "metadata": {
        "id": "9DKh13C6ByQ7"
      },
      "source": [
        "# Export the data to an excel file"
      ]
    },
    {
      "cell_type": "code",
      "execution_count": null,
      "metadata": {
        "id": "KqxANLDUB9ye"
      },
      "outputs": [],
      "source": [
        "# move 'keywords' ahead follow by 'content'\n",
        "columns = khc_df_tw.columns.tolist()\n",
        "columns.insert(6, columns.pop(-3))\n",
        "khc_df_tw = khc_df_tw[columns]"
      ]
    },
    {
      "cell_type": "code",
      "execution_count": null,
      "metadata": {
        "colab": {
          "base_uri": "https://localhost:8080/"
        },
        "id": "QqvJqhrwn053",
        "outputId": "a53e6247-dfee-4c7d-e169-d7183de4ad7e"
      },
      "outputs": [
        {
          "data": {
            "text/html": [
              "\n",
              "\n",
              "  <div id=\"df-df40b531-f721-4de3-bd92-386e6fa299ae\">\n",
              "    <div class=\"colab-df-container\">\n",
              "      <div>\n",
              "<style scoped>\n",
              "    .dataframe tbody tr th:only-of-type {\n",
              "        vertical-align: middle;\n",
              "    }\n",
              "\n",
              "    .dataframe tbody tr th {\n",
              "        vertical-align: top;\n",
              "    }\n",
              "\n",
              "    .dataframe thead th {\n",
              "        text-align: right;\n",
              "    }\n",
              "</style>\n",
              "<table border=\"1\" class=\"dataframe\">\n",
              "  <thead>\n",
              "    <tr style=\"text-align: right;\">\n",
              "      <th></th>\n",
              "      <th>id</th>\n",
              "      <th>search</th>\n",
              "      <th>source</th>\n",
              "      <th>application</th>\n",
              "      <th>title</th>\n",
              "      <th>content</th>\n",
              "      <th>keywords</th>\n",
              "      <th>date</th>\n",
              "      <th>parent</th>\n",
              "      <th>language</th>\n",
              "      <th>...</th>\n",
              "      <th>biodiversity</th>\n",
              "      <th>human rights</th>\n",
              "      <th>labor practices</th>\n",
              "      <th>community and society</th>\n",
              "      <th>workforce protection</th>\n",
              "      <th>local content</th>\n",
              "      <th>post subtype</th>\n",
              "      <th>post type</th>\n",
              "      <th>flair_sentiment</th>\n",
              "      <th>flair_sentiment_score</th>\n",
              "    </tr>\n",
              "  </thead>\n",
              "  <tbody>\n",
              "    <tr>\n",
              "      <th>0</th>\n",
              "      <td>0_104815_8_1609539758241484801</td>\n",
              "      <td>104815</td>\n",
              "      <td>Twitter</td>\n",
              "      <td>Twitter for iPad</td>\n",
              "      <td>NaN</td>\n",
              "      <td>You mean \"Catsup.\" Seriously, Hunts had a br...</td>\n",
              "      <td>ketchup, catsup, heinz trademarks, heinz, hunt...</td>\n",
              "      <td>2023-01-01 13:19:16</td>\n",
              "      <td>0_104815_8_1609425583464943624</td>\n",
              "      <td>en</td>\n",
              "      <td>...</td>\n",
              "      <td>NaN</td>\n",
              "      <td>NaN</td>\n",
              "      <td>NaN</td>\n",
              "      <td>NaN</td>\n",
              "      <td>NaN</td>\n",
              "      <td>NaN</td>\n",
              "      <td>reply</td>\n",
              "      <td>engagement</td>\n",
              "      <td>negative</td>\n",
              "      <td>0.759982</td>\n",
              "    </tr>\n",
              "    <tr>\n",
              "      <th>1</th>\n",
              "      <td>0_104815_8_1609589331206836224</td>\n",
              "      <td>104815</td>\n",
              "      <td>Twitter</td>\n",
              "      <td>Twitter for iPhone</td>\n",
              "      <td>NaN</td>\n",
              "      <td>I smell a charity stream here…Each mileston...</td>\n",
              "      <td>heinz beans, different heinz beans product, he...</td>\n",
              "      <td>2023-01-01 16:36:15</td>\n",
              "      <td>0_104815_8_1609588968877883393</td>\n",
              "      <td>en</td>\n",
              "      <td>...</td>\n",
              "      <td>NaN</td>\n",
              "      <td>NaN</td>\n",
              "      <td>NaN</td>\n",
              "      <td>NaN</td>\n",
              "      <td>NaN</td>\n",
              "      <td>NaN</td>\n",
              "      <td>reply</td>\n",
              "      <td>engagement</td>\n",
              "      <td>positive</td>\n",
              "      <td>0.952374</td>\n",
              "    </tr>\n",
              "    <tr>\n",
              "      <th>2</th>\n",
              "      <td>0_104815_8_1609705628557275136</td>\n",
              "      <td>104815</td>\n",
              "      <td>Twitter</td>\n",
              "      <td>Twitter for iPhone</td>\n",
              "      <td>NaN</td>\n",
              "      <td>if anyone wants to get  fired up ask them abou...</td>\n",
              "      <td>heinz plastic, heinz, kit, plastic, anyone</td>\n",
              "      <td>2023-01-02 00:18:23</td>\n",
              "      <td>0</td>\n",
              "      <td>en</td>\n",
              "      <td>...</td>\n",
              "      <td>NaN</td>\n",
              "      <td>NaN</td>\n",
              "      <td>NaN</td>\n",
              "      <td>NaN</td>\n",
              "      <td>NaN</td>\n",
              "      <td>NaN</td>\n",
              "      <td>original post</td>\n",
              "      <td>post</td>\n",
              "      <td>positive</td>\n",
              "      <td>0.927865</td>\n",
              "    </tr>\n",
              "    <tr>\n",
              "      <th>3</th>\n",
              "      <td>0_104815_8_1609732418335899651</td>\n",
              "      <td>104815</td>\n",
              "      <td>Twitter</td>\n",
              "      <td>Twitter for Android</td>\n",
              "      <td>NaN</td>\n",
              "      <td>just so you know, I work in a supermarket and ...</td>\n",
              "      <td>plastic free packaging, heinz beans, packaging...</td>\n",
              "      <td>2023-01-02 02:04:50</td>\n",
              "      <td>0</td>\n",
              "      <td>en</td>\n",
              "      <td>...</td>\n",
              "      <td>NaN</td>\n",
              "      <td>NaN</td>\n",
              "      <td>NaN</td>\n",
              "      <td>NaN</td>\n",
              "      <td>NaN</td>\n",
              "      <td>NaN</td>\n",
              "      <td>original post</td>\n",
              "      <td>post</td>\n",
              "      <td>negative</td>\n",
              "      <td>0.988997</td>\n",
              "    </tr>\n",
              "    <tr>\n",
              "      <th>4</th>\n",
              "      <td>0_104815_8_1609742063314309120</td>\n",
              "      <td>104815</td>\n",
              "      <td>Twitter</td>\n",
              "      <td>Twitter Web App</td>\n",
              "      <td>NaN</td>\n",
              "      <td>So hard to believe Velveeta Voldemort suppo...</td>\n",
              "      <td>kevin mccarthy, velveeta voldemort, own party,...</td>\n",
              "      <td>2023-01-02 02:43:10</td>\n",
              "      <td>0_104815_8_1609735600881504257</td>\n",
              "      <td>en</td>\n",
              "      <td>...</td>\n",
              "      <td>NaN</td>\n",
              "      <td>NaN</td>\n",
              "      <td>NaN</td>\n",
              "      <td>NaN</td>\n",
              "      <td>NaN</td>\n",
              "      <td>NaN</td>\n",
              "      <td>reply</td>\n",
              "      <td>engagement</td>\n",
              "      <td>negative</td>\n",
              "      <td>0.937185</td>\n",
              "    </tr>\n",
              "  </tbody>\n",
              "</table>\n",
              "<p>5 rows × 67 columns</p>\n",
              "</div>\n",
              "      <button class=\"colab-df-convert\" onclick=\"convertToInteractive('df-df40b531-f721-4de3-bd92-386e6fa299ae')\"\n",
              "              title=\"Convert this dataframe to an interactive table.\"\n",
              "              style=\"display:none;\">\n",
              "\n",
              "  <svg xmlns=\"http://www.w3.org/2000/svg\" height=\"24px\"viewBox=\"0 0 24 24\"\n",
              "       width=\"24px\">\n",
              "    <path d=\"M0 0h24v24H0V0z\" fill=\"none\"/>\n",
              "    <path d=\"M18.56 5.44l.94 2.06.94-2.06 2.06-.94-2.06-.94-.94-2.06-.94 2.06-2.06.94zm-11 1L8.5 8.5l.94-2.06 2.06-.94-2.06-.94L8.5 2.5l-.94 2.06-2.06.94zm10 10l.94 2.06.94-2.06 2.06-.94-2.06-.94-.94-2.06-.94 2.06-2.06.94z\"/><path d=\"M17.41 7.96l-1.37-1.37c-.4-.4-.92-.59-1.43-.59-.52 0-1.04.2-1.43.59L10.3 9.45l-7.72 7.72c-.78.78-.78 2.05 0 2.83L4 21.41c.39.39.9.59 1.41.59.51 0 1.02-.2 1.41-.59l7.78-7.78 2.81-2.81c.8-.78.8-2.07 0-2.86zM5.41 20L4 18.59l7.72-7.72 1.47 1.35L5.41 20z\"/>\n",
              "  </svg>\n",
              "      </button>\n",
              "\n",
              "\n",
              "\n",
              "    <div id=\"df-c399f59b-9979-4c1e-b1f8-1b81113fe395\">\n",
              "      <button class=\"colab-df-quickchart\" onclick=\"quickchart('df-c399f59b-9979-4c1e-b1f8-1b81113fe395')\"\n",
              "              title=\"Suggest charts.\"\n",
              "              style=\"display:none;\">\n",
              "\n",
              "<svg xmlns=\"http://www.w3.org/2000/svg\" height=\"24px\"viewBox=\"0 0 24 24\"\n",
              "     width=\"24px\">\n",
              "    <g>\n",
              "        <path d=\"M19 3H5c-1.1 0-2 .9-2 2v14c0 1.1.9 2 2 2h14c1.1 0 2-.9 2-2V5c0-1.1-.9-2-2-2zM9 17H7v-7h2v7zm4 0h-2V7h2v10zm4 0h-2v-4h2v4z\"/>\n",
              "    </g>\n",
              "</svg>\n",
              "      </button>\n",
              "    </div>\n",
              "\n",
              "<style>\n",
              "  .colab-df-quickchart {\n",
              "    background-color: #E8F0FE;\n",
              "    border: none;\n",
              "    border-radius: 50%;\n",
              "    cursor: pointer;\n",
              "    display: none;\n",
              "    fill: #1967D2;\n",
              "    height: 32px;\n",
              "    padding: 0 0 0 0;\n",
              "    width: 32px;\n",
              "  }\n",
              "\n",
              "  .colab-df-quickchart:hover {\n",
              "    background-color: #E2EBFA;\n",
              "    box-shadow: 0px 1px 2px rgba(60, 64, 67, 0.3), 0px 1px 3px 1px rgba(60, 64, 67, 0.15);\n",
              "    fill: #174EA6;\n",
              "  }\n",
              "\n",
              "  [theme=dark] .colab-df-quickchart {\n",
              "    background-color: #3B4455;\n",
              "    fill: #D2E3FC;\n",
              "  }\n",
              "\n",
              "  [theme=dark] .colab-df-quickchart:hover {\n",
              "    background-color: #434B5C;\n",
              "    box-shadow: 0px 1px 3px 1px rgba(0, 0, 0, 0.15);\n",
              "    filter: drop-shadow(0px 1px 2px rgba(0, 0, 0, 0.3));\n",
              "    fill: #FFFFFF;\n",
              "  }\n",
              "</style>\n",
              "\n",
              "    <script>\n",
              "      async function quickchart(key) {\n",
              "        const containerElement = document.querySelector('#' + key);\n",
              "        const charts = await google.colab.kernel.invokeFunction(\n",
              "            'suggestCharts', [key], {});\n",
              "      }\n",
              "    </script>\n",
              "\n",
              "      <script>\n",
              "\n",
              "function displayQuickchartButton(domScope) {\n",
              "  let quickchartButtonEl =\n",
              "    domScope.querySelector('#df-c399f59b-9979-4c1e-b1f8-1b81113fe395 button.colab-df-quickchart');\n",
              "  quickchartButtonEl.style.display =\n",
              "    google.colab.kernel.accessAllowed ? 'block' : 'none';\n",
              "}\n",
              "\n",
              "        displayQuickchartButton(document);\n",
              "      </script>\n",
              "      <style>\n",
              "    .colab-df-container {\n",
              "      display:flex;\n",
              "      flex-wrap:wrap;\n",
              "      gap: 12px;\n",
              "    }\n",
              "\n",
              "    .colab-df-convert {\n",
              "      background-color: #E8F0FE;\n",
              "      border: none;\n",
              "      border-radius: 50%;\n",
              "      cursor: pointer;\n",
              "      display: none;\n",
              "      fill: #1967D2;\n",
              "      height: 32px;\n",
              "      padding: 0 0 0 0;\n",
              "      width: 32px;\n",
              "    }\n",
              "\n",
              "    .colab-df-convert:hover {\n",
              "      background-color: #E2EBFA;\n",
              "      box-shadow: 0px 1px 2px rgba(60, 64, 67, 0.3), 0px 1px 3px 1px rgba(60, 64, 67, 0.15);\n",
              "      fill: #174EA6;\n",
              "    }\n",
              "\n",
              "    [theme=dark] .colab-df-convert {\n",
              "      background-color: #3B4455;\n",
              "      fill: #D2E3FC;\n",
              "    }\n",
              "\n",
              "    [theme=dark] .colab-df-convert:hover {\n",
              "      background-color: #434B5C;\n",
              "      box-shadow: 0px 1px 3px 1px rgba(0, 0, 0, 0.15);\n",
              "      filter: drop-shadow(0px 1px 2px rgba(0, 0, 0, 0.3));\n",
              "      fill: #FFFFFF;\n",
              "    }\n",
              "  </style>\n",
              "\n",
              "      <script>\n",
              "        const buttonEl =\n",
              "          document.querySelector('#df-df40b531-f721-4de3-bd92-386e6fa299ae button.colab-df-convert');\n",
              "        buttonEl.style.display =\n",
              "          google.colab.kernel.accessAllowed ? 'block' : 'none';\n",
              "\n",
              "        async function convertToInteractive(key) {\n",
              "          const element = document.querySelector('#df-df40b531-f721-4de3-bd92-386e6fa299ae');\n",
              "          const dataTable =\n",
              "            await google.colab.kernel.invokeFunction('convertToInteractive',\n",
              "                                                     [key], {});\n",
              "          if (!dataTable) return;\n",
              "\n",
              "          const docLinkHtml = 'Like what you see? Visit the ' +\n",
              "            '<a target=\"_blank\" href=https://colab.research.google.com/notebooks/data_table.ipynb>data table notebook</a>'\n",
              "            + ' to learn more about interactive tables.';\n",
              "          element.innerHTML = '';\n",
              "          dataTable['output_type'] = 'display_data';\n",
              "          await google.colab.output.renderOutput(dataTable, element);\n",
              "          const docLink = document.createElement('div');\n",
              "          docLink.innerHTML = docLinkHtml;\n",
              "          element.appendChild(docLink);\n",
              "        }\n",
              "      </script>\n",
              "    </div>\n",
              "  </div>\n"
            ],
            "text/plain": [
              "                               id  search   source          application  \\\n",
              "0  0_104815_8_1609539758241484801  104815  Twitter     Twitter for iPad   \n",
              "1  0_104815_8_1609589331206836224  104815  Twitter   Twitter for iPhone   \n",
              "2  0_104815_8_1609705628557275136  104815  Twitter   Twitter for iPhone   \n",
              "3  0_104815_8_1609732418335899651  104815  Twitter  Twitter for Android   \n",
              "4  0_104815_8_1609742063314309120  104815  Twitter      Twitter Web App   \n",
              "\n",
              "   title                                            content  \\\n",
              "0    NaN    You mean \"Catsup.\" Seriously, Hunts had a br...   \n",
              "1    NaN     I smell a charity stream here…Each mileston...   \n",
              "2    NaN  if anyone wants to get  fired up ask them abou...   \n",
              "3    NaN  just so you know, I work in a supermarket and ...   \n",
              "4    NaN     So hard to believe Velveeta Voldemort suppo...   \n",
              "\n",
              "                                            keywords                date  \\\n",
              "0  ketchup, catsup, heinz trademarks, heinz, hunt... 2023-01-01 13:19:16   \n",
              "1  heinz beans, different heinz beans product, he... 2023-01-01 16:36:15   \n",
              "2         heinz plastic, heinz, kit, plastic, anyone 2023-01-02 00:18:23   \n",
              "3  plastic free packaging, heinz beans, packaging... 2023-01-02 02:04:50   \n",
              "4  kevin mccarthy, velveeta voldemort, own party,... 2023-01-02 02:43:10   \n",
              "\n",
              "                           parent language  ... biodiversity human rights  \\\n",
              "0  0_104815_8_1609425583464943624       en  ...          NaN          NaN   \n",
              "1  0_104815_8_1609588968877883393       en  ...          NaN          NaN   \n",
              "2                               0       en  ...          NaN          NaN   \n",
              "3                               0       en  ...          NaN          NaN   \n",
              "4  0_104815_8_1609735600881504257       en  ...          NaN          NaN   \n",
              "\n",
              "  labor practices  community and society  workforce protection local content  \\\n",
              "0             NaN                    NaN                   NaN           NaN   \n",
              "1             NaN                    NaN                   NaN           NaN   \n",
              "2             NaN                    NaN                   NaN           NaN   \n",
              "3             NaN                    NaN                   NaN           NaN   \n",
              "4             NaN                    NaN                   NaN           NaN   \n",
              "\n",
              "    post subtype   post type  flair_sentiment flair_sentiment_score  \n",
              "0          reply  engagement         negative              0.759982  \n",
              "1          reply  engagement         positive              0.952374  \n",
              "2  original post        post         positive              0.927865  \n",
              "3  original post        post         negative              0.988997  \n",
              "4          reply  engagement         negative              0.937185  \n",
              "\n",
              "[5 rows x 67 columns]"
            ]
          },
          "execution_count": 143,
          "metadata": {},
          "output_type": "execute_result"
        }
      ],
      "source": [
        "khc_df_tw.head()"
      ]
    },
    {
      "cell_type": "code",
      "execution_count": null,
      "metadata": {
        "id": "P2qj81Mifhdn"
      },
      "outputs": [],
      "source": [
        "# save to new excel file\n",
        "khc_df_tw.to_excel('/content/drive/MyDrive/Zeno/khc_H1_updated0804.xlsx', index=False)"
      ]
    }
  ],
  "metadata": {
    "colab": {
      "collapsed_sections": [
        "fwIK2M8xScrD",
        "CCDVSsEdojyV",
        "HeOLs4rX8g7i",
        "0UWRjlpdBKer",
        "9DKh13C6ByQ7"
      ],
      "provenance": [],
      "include_colab_link": true
    },
    "kernelspec": {
      "display_name": "Python 3",
      "name": "python3"
    },
    "language_info": {
      "name": "python"
    }
  },
  "nbformat": 4,
  "nbformat_minor": 0
}