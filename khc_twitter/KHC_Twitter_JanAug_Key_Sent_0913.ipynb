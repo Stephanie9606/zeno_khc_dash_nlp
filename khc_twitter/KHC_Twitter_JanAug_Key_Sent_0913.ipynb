{
  "nbformat": 4,
  "nbformat_minor": 0,
  "metadata": {
    "colab": {
      "provenance": [],
      "collapsed_sections": [
        "fwIK2M8xScrD",
        "raM_Z6_cPlsm",
        "iSBlbmfdoR9Y",
        "0UWRjlpdBKer",
        "9DKh13C6ByQ7"
      ],
      "include_colab_link": true
    },
    "kernelspec": {
      "name": "python3",
      "display_name": "Python 3"
    },
    "language_info": {
      "name": "python"
    }
  },
  "cells": [
    {
      "cell_type": "markdown",
      "metadata": {
        "id": "view-in-github",
        "colab_type": "text"
      },
      "source": [
        "<a href=\"https://colab.research.google.com/github/Stephanie9606/zeno_khc_dash_nlp/blob/main/khc_twitter/KHC_Twitter_JanAug_Key_Sent_0913.ipynb\" target=\"_parent\"><img src=\"https://colab.research.google.com/assets/colab-badge.svg\" alt=\"Open In Colab\"/></a>"
      ]
    },
    {
      "cell_type": "markdown",
      "source": [
        "# **KHC Dashboard Pulsar Data Testing File - Sentiment + Keywords**"
      ],
      "metadata": {
        "id": "MZKYB3Gd966l"
      }
    },
    {
      "cell_type": "code",
      "source": [
        "import pandas as pd\n",
        "import numpy as np"
      ],
      "metadata": {
        "id": "f9bFluJqSX5F"
      },
      "execution_count": null,
      "outputs": []
    },
    {
      "cell_type": "code",
      "source": [
        "from google.colab import drive\n",
        "drive.mount('/content/drive')"
      ],
      "metadata": {
        "colab": {
          "base_uri": "https://localhost:8080/"
        },
        "id": "8uRrImaAWGXF",
        "outputId": "ede4b3cb-8758-4937-f4b8-f4e11f4b3d12"
      },
      "execution_count": null,
      "outputs": [
        {
          "output_type": "stream",
          "name": "stdout",
          "text": [
            "Drive already mounted at /content/drive; to attempt to forcibly remount, call drive.mount(\"/content/drive\", force_remount=True).\n"
          ]
        }
      ]
    },
    {
      "cell_type": "markdown",
      "source": [
        "# Data Cleaning"
      ],
      "metadata": {
        "id": "fwIK2M8xScrD"
      }
    },
    {
      "cell_type": "markdown",
      "source": [
        "--- KHC Data Jan - June 2023 ---"
      ],
      "metadata": {
        "id": "4jdG_v1y48BD"
      }
    },
    {
      "cell_type": "code",
      "source": [
        "khc_df_16 = pd.read_excel('/content/drive/MyDrive/Zeno_KHC_Twitter/khc_twitter_h1.xlsx')"
      ],
      "metadata": {
        "id": "GdMNCBNc4_7J"
      },
      "execution_count": null,
      "outputs": []
    },
    {
      "cell_type": "markdown",
      "source": [
        "--- KHC Data July - Aug 2023 ---"
      ],
      "metadata": {
        "id": "7xrgTmeGVt6t"
      }
    },
    {
      "cell_type": "code",
      "source": [
        "khc_df_78 = pd.read_excel('/content/drive/MyDrive/Zeno_KHC_Twitter/khc_twitter_JulyAug.xlsx')"
      ],
      "metadata": {
        "id": "QZtr06n3U-54"
      },
      "execution_count": null,
      "outputs": []
    },
    {
      "cell_type": "code",
      "source": [
        "# merge two data\n",
        "khc_df = pd.concat([khc_df_16, khc_df_78], axis=0)"
      ],
      "metadata": {
        "id": "lp-PKRD-5Kj3"
      },
      "execution_count": null,
      "outputs": []
    },
    {
      "cell_type": "code",
      "source": [
        "# delete web link at the end of content\n",
        "khc_df['content'] = khc_df['content'].str.split('https').str[0].str.strip()"
      ],
      "metadata": {
        "id": "8Ft7BUy4cJjM"
      },
      "execution_count": null,
      "outputs": []
    },
    {
      "cell_type": "code",
      "source": [
        "# check num of rows\n",
        "khc_df.shape[0]"
      ],
      "metadata": {
        "colab": {
          "base_uri": "https://localhost:8080/"
        },
        "id": "tjnXNUVzBvwv",
        "outputId": "69010a0e-cae2-4dab-9182-3deb73fdbe61"
      },
      "execution_count": null,
      "outputs": [
        {
          "output_type": "execute_result",
          "data": {
            "text/plain": [
              "4556"
            ]
          },
          "metadata": {},
          "execution_count": 79
        }
      ]
    },
    {
      "cell_type": "code",
      "source": [
        "khc_df_tw = khc_df"
      ],
      "metadata": {
        "id": "mSLr2327BwAB"
      },
      "execution_count": null,
      "outputs": []
    },
    {
      "cell_type": "markdown",
      "source": [
        "--- keep only the relevant columns"
      ],
      "metadata": {
        "id": "_rKWWF74p6C6"
      }
    },
    {
      "cell_type": "code",
      "source": [
        "columns_to_keep = [0, 1, 2, 5, 6, 9, 14, 18]\n",
        "khc_df_tw = khc_df_tw.iloc[:, columns_to_keep]"
      ],
      "metadata": {
        "id": "jGihmb9Np-C4"
      },
      "execution_count": null,
      "outputs": []
    },
    {
      "cell_type": "code",
      "source": [
        "khc_df_tw.head()"
      ],
      "metadata": {
        "colab": {
          "base_uri": "https://localhost:8080/",
          "height": 206
        },
        "id": "3_N78OdyrI1h",
        "outputId": "d80fc2cb-f96f-4c7c-e33f-cf9806129afc"
      },
      "execution_count": null,
      "outputs": [
        {
          "output_type": "execute_result",
          "data": {
            "text/plain": [
              "                               id  search   source  \\\n",
              "0  0_104815_8_1609539758241484801  104815  Twitter   \n",
              "1  0_104815_8_1609589331206836224  104815  Twitter   \n",
              "2  0_104815_8_1609627560098557954  104815  Twitter   \n",
              "3  0_104815_8_1609658180715556864  104815  Twitter   \n",
              "4  0_104815_8_1609683821137645569  104815  Twitter   \n",
              "\n",
              "                                             content                date  \\\n",
              "0  @TerenceBegleyNJ @RadioFreeTom You mean \"Catsu... 2023-01-01 13:19:16   \n",
              "1  @batkitto @sizzsarz @TomHazelaar I smell a cha... 2023-01-01 16:36:15   \n",
              "2  Check out this listing I just added to my #Pos... 2023-01-01 19:08:10   \n",
              "3  @MiracleWhip @KraftHeinzCo please remove HFCS ... 2023-01-01 21:09:50   \n",
              "4                          2023 starting out cursed. 2023-01-01 22:51:44   \n",
              "\n",
              "                                                 url  \\\n",
              "0  https://twitter.com/phillips_allen1/status/160...   \n",
              "1  https://twitter.com/Samos89/status/16095893312...   \n",
              "2  https://twitter.com/trinketssd/status/16096275...   \n",
              "3  https://twitter.com/84lbs84days/status/1609658...   \n",
              "4  https://twitter.com/rit/status/160968382113764...   \n",
              "\n",
              "                                              topics sentiment class  \n",
              "0  Ketchup,Tomato products,Condiments,Sauces,Toma...         neutral  \n",
              "1  Legumes,Food industry,Food and drink preparati...        positive  \n",
              "2  Cheese,Cookbook,Food and drink,Books,Cooking,H...         neutral  \n",
              "3                                                NaN        negative  \n",
              "4                                                NaN        negative  "
            ],
            "text/html": [
              "\n",
              "  <div id=\"df-875d6de9-093b-42d7-874c-b037ebd53e9c\" class=\"colab-df-container\">\n",
              "    <div>\n",
              "<style scoped>\n",
              "    .dataframe tbody tr th:only-of-type {\n",
              "        vertical-align: middle;\n",
              "    }\n",
              "\n",
              "    .dataframe tbody tr th {\n",
              "        vertical-align: top;\n",
              "    }\n",
              "\n",
              "    .dataframe thead th {\n",
              "        text-align: right;\n",
              "    }\n",
              "</style>\n",
              "<table border=\"1\" class=\"dataframe\">\n",
              "  <thead>\n",
              "    <tr style=\"text-align: right;\">\n",
              "      <th></th>\n",
              "      <th>id</th>\n",
              "      <th>search</th>\n",
              "      <th>source</th>\n",
              "      <th>content</th>\n",
              "      <th>date</th>\n",
              "      <th>url</th>\n",
              "      <th>topics</th>\n",
              "      <th>sentiment class</th>\n",
              "    </tr>\n",
              "  </thead>\n",
              "  <tbody>\n",
              "    <tr>\n",
              "      <th>0</th>\n",
              "      <td>0_104815_8_1609539758241484801</td>\n",
              "      <td>104815</td>\n",
              "      <td>Twitter</td>\n",
              "      <td>@TerenceBegleyNJ @RadioFreeTom You mean \"Catsu...</td>\n",
              "      <td>2023-01-01 13:19:16</td>\n",
              "      <td>https://twitter.com/phillips_allen1/status/160...</td>\n",
              "      <td>Ketchup,Tomato products,Condiments,Sauces,Toma...</td>\n",
              "      <td>neutral</td>\n",
              "    </tr>\n",
              "    <tr>\n",
              "      <th>1</th>\n",
              "      <td>0_104815_8_1609589331206836224</td>\n",
              "      <td>104815</td>\n",
              "      <td>Twitter</td>\n",
              "      <td>@batkitto @sizzsarz @TomHazelaar I smell a cha...</td>\n",
              "      <td>2023-01-01 16:36:15</td>\n",
              "      <td>https://twitter.com/Samos89/status/16095893312...</td>\n",
              "      <td>Legumes,Food industry,Food and drink preparati...</td>\n",
              "      <td>positive</td>\n",
              "    </tr>\n",
              "    <tr>\n",
              "      <th>2</th>\n",
              "      <td>0_104815_8_1609627560098557954</td>\n",
              "      <td>104815</td>\n",
              "      <td>Twitter</td>\n",
              "      <td>Check out this listing I just added to my #Pos...</td>\n",
              "      <td>2023-01-01 19:08:10</td>\n",
              "      <td>https://twitter.com/trinketssd/status/16096275...</td>\n",
              "      <td>Cheese,Cookbook,Food and drink,Books,Cooking,H...</td>\n",
              "      <td>neutral</td>\n",
              "    </tr>\n",
              "    <tr>\n",
              "      <th>3</th>\n",
              "      <td>0_104815_8_1609658180715556864</td>\n",
              "      <td>104815</td>\n",
              "      <td>Twitter</td>\n",
              "      <td>@MiracleWhip @KraftHeinzCo please remove HFCS ...</td>\n",
              "      <td>2023-01-01 21:09:50</td>\n",
              "      <td>https://twitter.com/84lbs84days/status/1609658...</td>\n",
              "      <td>NaN</td>\n",
              "      <td>negative</td>\n",
              "    </tr>\n",
              "    <tr>\n",
              "      <th>4</th>\n",
              "      <td>0_104815_8_1609683821137645569</td>\n",
              "      <td>104815</td>\n",
              "      <td>Twitter</td>\n",
              "      <td>2023 starting out cursed.</td>\n",
              "      <td>2023-01-01 22:51:44</td>\n",
              "      <td>https://twitter.com/rit/status/160968382113764...</td>\n",
              "      <td>NaN</td>\n",
              "      <td>negative</td>\n",
              "    </tr>\n",
              "  </tbody>\n",
              "</table>\n",
              "</div>\n",
              "    <div class=\"colab-df-buttons\">\n",
              "\n",
              "  <div class=\"colab-df-container\">\n",
              "    <button class=\"colab-df-convert\" onclick=\"convertToInteractive('df-875d6de9-093b-42d7-874c-b037ebd53e9c')\"\n",
              "            title=\"Convert this dataframe to an interactive table.\"\n",
              "            style=\"display:none;\">\n",
              "\n",
              "  <svg xmlns=\"http://www.w3.org/2000/svg\" height=\"24px\" viewBox=\"0 -960 960 960\">\n",
              "    <path d=\"M120-120v-720h720v720H120Zm60-500h600v-160H180v160Zm220 220h160v-160H400v160Zm0 220h160v-160H400v160ZM180-400h160v-160H180v160Zm440 0h160v-160H620v160ZM180-180h160v-160H180v160Zm440 0h160v-160H620v160Z\"/>\n",
              "  </svg>\n",
              "    </button>\n",
              "\n",
              "  <style>\n",
              "    .colab-df-container {\n",
              "      display:flex;\n",
              "      gap: 12px;\n",
              "    }\n",
              "\n",
              "    .colab-df-convert {\n",
              "      background-color: #E8F0FE;\n",
              "      border: none;\n",
              "      border-radius: 50%;\n",
              "      cursor: pointer;\n",
              "      display: none;\n",
              "      fill: #1967D2;\n",
              "      height: 32px;\n",
              "      padding: 0 0 0 0;\n",
              "      width: 32px;\n",
              "    }\n",
              "\n",
              "    .colab-df-convert:hover {\n",
              "      background-color: #E2EBFA;\n",
              "      box-shadow: 0px 1px 2px rgba(60, 64, 67, 0.3), 0px 1px 3px 1px rgba(60, 64, 67, 0.15);\n",
              "      fill: #174EA6;\n",
              "    }\n",
              "\n",
              "    .colab-df-buttons div {\n",
              "      margin-bottom: 4px;\n",
              "    }\n",
              "\n",
              "    [theme=dark] .colab-df-convert {\n",
              "      background-color: #3B4455;\n",
              "      fill: #D2E3FC;\n",
              "    }\n",
              "\n",
              "    [theme=dark] .colab-df-convert:hover {\n",
              "      background-color: #434B5C;\n",
              "      box-shadow: 0px 1px 3px 1px rgba(0, 0, 0, 0.15);\n",
              "      filter: drop-shadow(0px 1px 2px rgba(0, 0, 0, 0.3));\n",
              "      fill: #FFFFFF;\n",
              "    }\n",
              "  </style>\n",
              "\n",
              "    <script>\n",
              "      const buttonEl =\n",
              "        document.querySelector('#df-875d6de9-093b-42d7-874c-b037ebd53e9c button.colab-df-convert');\n",
              "      buttonEl.style.display =\n",
              "        google.colab.kernel.accessAllowed ? 'block' : 'none';\n",
              "\n",
              "      async function convertToInteractive(key) {\n",
              "        const element = document.querySelector('#df-875d6de9-093b-42d7-874c-b037ebd53e9c');\n",
              "        const dataTable =\n",
              "          await google.colab.kernel.invokeFunction('convertToInteractive',\n",
              "                                                    [key], {});\n",
              "        if (!dataTable) return;\n",
              "\n",
              "        const docLinkHtml = 'Like what you see? Visit the ' +\n",
              "          '<a target=\"_blank\" href=https://colab.research.google.com/notebooks/data_table.ipynb>data table notebook</a>'\n",
              "          + ' to learn more about interactive tables.';\n",
              "        element.innerHTML = '';\n",
              "        dataTable['output_type'] = 'display_data';\n",
              "        await google.colab.output.renderOutput(dataTable, element);\n",
              "        const docLink = document.createElement('div');\n",
              "        docLink.innerHTML = docLinkHtml;\n",
              "        element.appendChild(docLink);\n",
              "      }\n",
              "    </script>\n",
              "  </div>\n",
              "\n",
              "\n",
              "<div id=\"df-79bd09a3-24c8-4f12-8f83-2f96d838e434\">\n",
              "  <button class=\"colab-df-quickchart\" onclick=\"quickchart('df-79bd09a3-24c8-4f12-8f83-2f96d838e434')\"\n",
              "            title=\"Suggest charts.\"\n",
              "            style=\"display:none;\">\n",
              "\n",
              "<svg xmlns=\"http://www.w3.org/2000/svg\" height=\"24px\"viewBox=\"0 0 24 24\"\n",
              "     width=\"24px\">\n",
              "    <g>\n",
              "        <path d=\"M19 3H5c-1.1 0-2 .9-2 2v14c0 1.1.9 2 2 2h14c1.1 0 2-.9 2-2V5c0-1.1-.9-2-2-2zM9 17H7v-7h2v7zm4 0h-2V7h2v10zm4 0h-2v-4h2v4z\"/>\n",
              "    </g>\n",
              "</svg>\n",
              "  </button>\n",
              "\n",
              "<style>\n",
              "  .colab-df-quickchart {\n",
              "      --bg-color: #E8F0FE;\n",
              "      --fill-color: #1967D2;\n",
              "      --hover-bg-color: #E2EBFA;\n",
              "      --hover-fill-color: #174EA6;\n",
              "      --disabled-fill-color: #AAA;\n",
              "      --disabled-bg-color: #DDD;\n",
              "  }\n",
              "\n",
              "  [theme=dark] .colab-df-quickchart {\n",
              "      --bg-color: #3B4455;\n",
              "      --fill-color: #D2E3FC;\n",
              "      --hover-bg-color: #434B5C;\n",
              "      --hover-fill-color: #FFFFFF;\n",
              "      --disabled-bg-color: #3B4455;\n",
              "      --disabled-fill-color: #666;\n",
              "  }\n",
              "\n",
              "  .colab-df-quickchart {\n",
              "    background-color: var(--bg-color);\n",
              "    border: none;\n",
              "    border-radius: 50%;\n",
              "    cursor: pointer;\n",
              "    display: none;\n",
              "    fill: var(--fill-color);\n",
              "    height: 32px;\n",
              "    padding: 0;\n",
              "    width: 32px;\n",
              "  }\n",
              "\n",
              "  .colab-df-quickchart:hover {\n",
              "    background-color: var(--hover-bg-color);\n",
              "    box-shadow: 0 1px 2px rgba(60, 64, 67, 0.3), 0 1px 3px 1px rgba(60, 64, 67, 0.15);\n",
              "    fill: var(--button-hover-fill-color);\n",
              "  }\n",
              "\n",
              "  .colab-df-quickchart-complete:disabled,\n",
              "  .colab-df-quickchart-complete:disabled:hover {\n",
              "    background-color: var(--disabled-bg-color);\n",
              "    fill: var(--disabled-fill-color);\n",
              "    box-shadow: none;\n",
              "  }\n",
              "\n",
              "  .colab-df-spinner {\n",
              "    border: 2px solid var(--fill-color);\n",
              "    border-color: transparent;\n",
              "    border-bottom-color: var(--fill-color);\n",
              "    animation:\n",
              "      spin 1s steps(1) infinite;\n",
              "  }\n",
              "\n",
              "  @keyframes spin {\n",
              "    0% {\n",
              "      border-color: transparent;\n",
              "      border-bottom-color: var(--fill-color);\n",
              "      border-left-color: var(--fill-color);\n",
              "    }\n",
              "    20% {\n",
              "      border-color: transparent;\n",
              "      border-left-color: var(--fill-color);\n",
              "      border-top-color: var(--fill-color);\n",
              "    }\n",
              "    30% {\n",
              "      border-color: transparent;\n",
              "      border-left-color: var(--fill-color);\n",
              "      border-top-color: var(--fill-color);\n",
              "      border-right-color: var(--fill-color);\n",
              "    }\n",
              "    40% {\n",
              "      border-color: transparent;\n",
              "      border-right-color: var(--fill-color);\n",
              "      border-top-color: var(--fill-color);\n",
              "    }\n",
              "    60% {\n",
              "      border-color: transparent;\n",
              "      border-right-color: var(--fill-color);\n",
              "    }\n",
              "    80% {\n",
              "      border-color: transparent;\n",
              "      border-right-color: var(--fill-color);\n",
              "      border-bottom-color: var(--fill-color);\n",
              "    }\n",
              "    90% {\n",
              "      border-color: transparent;\n",
              "      border-bottom-color: var(--fill-color);\n",
              "    }\n",
              "  }\n",
              "</style>\n",
              "\n",
              "  <script>\n",
              "    async function quickchart(key) {\n",
              "      const quickchartButtonEl =\n",
              "        document.querySelector('#' + key + ' button');\n",
              "      quickchartButtonEl.disabled = true;  // To prevent multiple clicks.\n",
              "      quickchartButtonEl.classList.add('colab-df-spinner');\n",
              "      try {\n",
              "        const charts = await google.colab.kernel.invokeFunction(\n",
              "            'suggestCharts', [key], {});\n",
              "      } catch (error) {\n",
              "        console.error('Error during call to suggestCharts:', error);\n",
              "      }\n",
              "      quickchartButtonEl.classList.remove('colab-df-spinner');\n",
              "      quickchartButtonEl.classList.add('colab-df-quickchart-complete');\n",
              "    }\n",
              "    (() => {\n",
              "      let quickchartButtonEl =\n",
              "        document.querySelector('#df-79bd09a3-24c8-4f12-8f83-2f96d838e434 button');\n",
              "      quickchartButtonEl.style.display =\n",
              "        google.colab.kernel.accessAllowed ? 'block' : 'none';\n",
              "    })();\n",
              "  </script>\n",
              "</div>\n",
              "    </div>\n",
              "  </div>\n"
            ]
          },
          "metadata": {},
          "execution_count": 87
        }
      ]
    },
    {
      "cell_type": "markdown",
      "source": [
        "--- clean @name, but keep @khc related, remove emojis only content ---"
      ],
      "metadata": {
        "id": "aFiv41Xcm0lS"
      }
    },
    {
      "cell_type": "code",
      "source": [
        "import re\n",
        "# tagged usernames to keep\n",
        "allowed_names = ['@MiracleWhip', '@KraftHeinzCo', '@CheesyVelveeta'] # self define\n",
        "\n",
        "# function to clean the content\n",
        "def clean_content(row):\n",
        "    # Use regex to replace the tagged names with empty strings\n",
        "    cleaned_content = re.sub(rf\"(?!{'|'.join(allowed_names)})@(\\w+)\", \"\", row[\"content\"])\n",
        "    return cleaned_content\n",
        "\n",
        "# apply to df 'content' column\n",
        "khc_df_tw[\"content\"] = khc_df_tw.apply(clean_content, axis=1)"
      ],
      "metadata": {
        "id": "mjkpGZlCmyNy",
        "colab": {
          "base_uri": "https://localhost:8080/"
        },
        "outputId": "32d4bc27-e9fd-4c10-e4a6-8722b642537e"
      },
      "execution_count": null,
      "outputs": [
        {
          "output_type": "stream",
          "name": "stderr",
          "text": [
            "<ipython-input-88-0fc259e6087c>:12: SettingWithCopyWarning: \n",
            "A value is trying to be set on a copy of a slice from a DataFrame.\n",
            "Try using .loc[row_indexer,col_indexer] = value instead\n",
            "\n",
            "See the caveats in the documentation: https://pandas.pydata.org/pandas-docs/stable/user_guide/indexing.html#returning-a-view-versus-a-copy\n",
            "  khc_df_tw[\"content\"] = khc_df_tw.apply(clean_content, axis=1)\n"
          ]
        }
      ]
    },
    {
      "cell_type": "code",
      "source": [
        "# rm empty content\n",
        "khc_df_tw = khc_df_tw[khc_df_tw[\"content\"] != \"\"]"
      ],
      "metadata": {
        "id": "aaB6kmjCxh1A"
      },
      "execution_count": null,
      "outputs": []
    },
    {
      "cell_type": "code",
      "source": [
        "#!pip3 install emoji==1.7.0"
      ],
      "metadata": {
        "id": "Tnnh44LndTPM"
      },
      "execution_count": null,
      "outputs": []
    },
    {
      "cell_type": "code",
      "source": [
        "# rm content contains only emoji\n",
        "import emoji\n",
        "def contains_only_emojis(text):\n",
        "    return all(char in emoji.UNICODE_EMOJI['en'] or char.isspace() for char in text)\n",
        "\n",
        "# Filter and delete rows where the 'content' column contains only emojis\n",
        "khc_df_tw = khc_df_tw[~khc_df_tw['content'].apply(contains_only_emojis)]"
      ],
      "metadata": {
        "id": "Tj5UP5FtVZaJ"
      },
      "execution_count": null,
      "outputs": []
    },
    {
      "cell_type": "code",
      "source": [
        "# rm rows with duplicated contents\n",
        "khc_df_tw = khc_df_tw[~khc_df_tw.duplicated(subset='content', keep=False)]"
      ],
      "metadata": {
        "id": "tvrv7_LiB31w"
      },
      "execution_count": null,
      "outputs": []
    },
    {
      "cell_type": "code",
      "source": [
        "khc_df_tw.shape[0]"
      ],
      "metadata": {
        "colab": {
          "base_uri": "https://localhost:8080/"
        },
        "id": "Or18CMPqLVzZ",
        "outputId": "4eb2900e-c77f-4e5c-bce0-a45f17ecca61"
      },
      "execution_count": null,
      "outputs": [
        {
          "output_type": "execute_result",
          "data": {
            "text/plain": [
              "3111"
            ]
          },
          "metadata": {},
          "execution_count": 94
        }
      ]
    },
    {
      "cell_type": "code",
      "source": [
        "# run pulsar query again, extract relevant content (security -> food security, too many noise) (Delete \"Heinz\" in the future)\n",
        "keywords = [\"Kraft Heinz\", \"KHC\", \"Kraft Mac and Cheese\", \"Heinz\", \"Kraft Singles\", \"Miracle Whip\", \"Heinz Ketchup\", \"Lunchables\", \"Velveeta\"]\n",
        "topics = [\"supply chain\", \"supply\", \"food security\", \"supplier\", \"recycled\", \"recycle\", \"recycling\", \"single-use\", \"plastic\", \"package\", \"packaging\", \"waste\", \"environment\", \"nature\", \"product\", \"quality\", \"planet\", \"crisis\", \"challenge\", \"problem\", \"criticism\", \"reputation\"]\n",
        "\n",
        "mask = khc_df_tw['content'].str.contains('|'.join(keywords), case=False) & khc_df_tw['content'].str.contains('|'.join(topics), case=False)\n",
        "\n",
        "khc_df_tw = khc_df_tw[mask]"
      ],
      "metadata": {
        "id": "Uue5kO6jACE6"
      },
      "execution_count": null,
      "outputs": []
    },
    {
      "cell_type": "code",
      "source": [
        "khc_df_tw.head()"
      ],
      "metadata": {
        "id": "USSLgpcNd3OQ",
        "colab": {
          "base_uri": "https://localhost:8080/",
          "height": 206
        },
        "outputId": "92aa5d44-63f0-4d4a-cc78-ce3bad7e7d3b"
      },
      "execution_count": null,
      "outputs": [
        {
          "output_type": "execute_result",
          "data": {
            "text/plain": [
              "                               id  search   source  \\\n",
              "0  0_104815_8_1609539758241484801  104815  Twitter   \n",
              "1  0_104815_8_1609589331206836224  104815  Twitter   \n",
              "6  0_104815_8_1609705628557275136  104815  Twitter   \n",
              "7  0_104815_8_1609732418335899651  104815  Twitter   \n",
              "8  0_104815_8_1609742063314309120  104815  Twitter   \n",
              "\n",
              "                                             content                date  \\\n",
              "0    You mean \"Catsup.\" Seriously, Hunts had a br... 2023-01-01 13:19:16   \n",
              "1     I smell a charity stream here…Each mileston... 2023-01-01 16:36:15   \n",
              "6  if anyone wants to get  fired up ask them abou... 2023-01-02 00:18:23   \n",
              "7  just so you know, I work in a supermarket and ... 2023-01-02 02:04:50   \n",
              "8     So hard to believe Velveeta Voldemort suppo... 2023-01-02 02:43:10   \n",
              "\n",
              "                                                 url  \\\n",
              "0  https://twitter.com/phillips_allen1/status/160...   \n",
              "1  https://twitter.com/Samos89/status/16095893312...   \n",
              "6  https://twitter.com/rina_hamon/status/16097056...   \n",
              "7  https://twitter.com/sekcbich/status/1609732418...   \n",
              "8  https://twitter.com/leftcoastbabe/status/16097...   \n",
              "\n",
              "                                              topics sentiment class  \n",
              "0  Ketchup,Tomato products,Condiments,Sauces,Toma...         neutral  \n",
              "1  Legumes,Food industry,Food and drink preparati...        positive  \n",
              "6                                                NaN         neutral  \n",
              "7  Food companies,Production and manufacturing,Fo...        positive  \n",
              "8                                                NaN        negative  "
            ],
            "text/html": [
              "\n",
              "  <div id=\"df-daa2377f-97d1-452c-b95b-0d13266ca6e5\" class=\"colab-df-container\">\n",
              "    <div>\n",
              "<style scoped>\n",
              "    .dataframe tbody tr th:only-of-type {\n",
              "        vertical-align: middle;\n",
              "    }\n",
              "\n",
              "    .dataframe tbody tr th {\n",
              "        vertical-align: top;\n",
              "    }\n",
              "\n",
              "    .dataframe thead th {\n",
              "        text-align: right;\n",
              "    }\n",
              "</style>\n",
              "<table border=\"1\" class=\"dataframe\">\n",
              "  <thead>\n",
              "    <tr style=\"text-align: right;\">\n",
              "      <th></th>\n",
              "      <th>id</th>\n",
              "      <th>search</th>\n",
              "      <th>source</th>\n",
              "      <th>content</th>\n",
              "      <th>date</th>\n",
              "      <th>url</th>\n",
              "      <th>topics</th>\n",
              "      <th>sentiment class</th>\n",
              "    </tr>\n",
              "  </thead>\n",
              "  <tbody>\n",
              "    <tr>\n",
              "      <th>0</th>\n",
              "      <td>0_104815_8_1609539758241484801</td>\n",
              "      <td>104815</td>\n",
              "      <td>Twitter</td>\n",
              "      <td>You mean \"Catsup.\" Seriously, Hunts had a br...</td>\n",
              "      <td>2023-01-01 13:19:16</td>\n",
              "      <td>https://twitter.com/phillips_allen1/status/160...</td>\n",
              "      <td>Ketchup,Tomato products,Condiments,Sauces,Toma...</td>\n",
              "      <td>neutral</td>\n",
              "    </tr>\n",
              "    <tr>\n",
              "      <th>1</th>\n",
              "      <td>0_104815_8_1609589331206836224</td>\n",
              "      <td>104815</td>\n",
              "      <td>Twitter</td>\n",
              "      <td>I smell a charity stream here…Each mileston...</td>\n",
              "      <td>2023-01-01 16:36:15</td>\n",
              "      <td>https://twitter.com/Samos89/status/16095893312...</td>\n",
              "      <td>Legumes,Food industry,Food and drink preparati...</td>\n",
              "      <td>positive</td>\n",
              "    </tr>\n",
              "    <tr>\n",
              "      <th>6</th>\n",
              "      <td>0_104815_8_1609705628557275136</td>\n",
              "      <td>104815</td>\n",
              "      <td>Twitter</td>\n",
              "      <td>if anyone wants to get  fired up ask them abou...</td>\n",
              "      <td>2023-01-02 00:18:23</td>\n",
              "      <td>https://twitter.com/rina_hamon/status/16097056...</td>\n",
              "      <td>NaN</td>\n",
              "      <td>neutral</td>\n",
              "    </tr>\n",
              "    <tr>\n",
              "      <th>7</th>\n",
              "      <td>0_104815_8_1609732418335899651</td>\n",
              "      <td>104815</td>\n",
              "      <td>Twitter</td>\n",
              "      <td>just so you know, I work in a supermarket and ...</td>\n",
              "      <td>2023-01-02 02:04:50</td>\n",
              "      <td>https://twitter.com/sekcbich/status/1609732418...</td>\n",
              "      <td>Food companies,Production and manufacturing,Fo...</td>\n",
              "      <td>positive</td>\n",
              "    </tr>\n",
              "    <tr>\n",
              "      <th>8</th>\n",
              "      <td>0_104815_8_1609742063314309120</td>\n",
              "      <td>104815</td>\n",
              "      <td>Twitter</td>\n",
              "      <td>So hard to believe Velveeta Voldemort suppo...</td>\n",
              "      <td>2023-01-02 02:43:10</td>\n",
              "      <td>https://twitter.com/leftcoastbabe/status/16097...</td>\n",
              "      <td>NaN</td>\n",
              "      <td>negative</td>\n",
              "    </tr>\n",
              "  </tbody>\n",
              "</table>\n",
              "</div>\n",
              "    <div class=\"colab-df-buttons\">\n",
              "\n",
              "  <div class=\"colab-df-container\">\n",
              "    <button class=\"colab-df-convert\" onclick=\"convertToInteractive('df-daa2377f-97d1-452c-b95b-0d13266ca6e5')\"\n",
              "            title=\"Convert this dataframe to an interactive table.\"\n",
              "            style=\"display:none;\">\n",
              "\n",
              "  <svg xmlns=\"http://www.w3.org/2000/svg\" height=\"24px\" viewBox=\"0 -960 960 960\">\n",
              "    <path d=\"M120-120v-720h720v720H120Zm60-500h600v-160H180v160Zm220 220h160v-160H400v160Zm0 220h160v-160H400v160ZM180-400h160v-160H180v160Zm440 0h160v-160H620v160ZM180-180h160v-160H180v160Zm440 0h160v-160H620v160Z\"/>\n",
              "  </svg>\n",
              "    </button>\n",
              "\n",
              "  <style>\n",
              "    .colab-df-container {\n",
              "      display:flex;\n",
              "      gap: 12px;\n",
              "    }\n",
              "\n",
              "    .colab-df-convert {\n",
              "      background-color: #E8F0FE;\n",
              "      border: none;\n",
              "      border-radius: 50%;\n",
              "      cursor: pointer;\n",
              "      display: none;\n",
              "      fill: #1967D2;\n",
              "      height: 32px;\n",
              "      padding: 0 0 0 0;\n",
              "      width: 32px;\n",
              "    }\n",
              "\n",
              "    .colab-df-convert:hover {\n",
              "      background-color: #E2EBFA;\n",
              "      box-shadow: 0px 1px 2px rgba(60, 64, 67, 0.3), 0px 1px 3px 1px rgba(60, 64, 67, 0.15);\n",
              "      fill: #174EA6;\n",
              "    }\n",
              "\n",
              "    .colab-df-buttons div {\n",
              "      margin-bottom: 4px;\n",
              "    }\n",
              "\n",
              "    [theme=dark] .colab-df-convert {\n",
              "      background-color: #3B4455;\n",
              "      fill: #D2E3FC;\n",
              "    }\n",
              "\n",
              "    [theme=dark] .colab-df-convert:hover {\n",
              "      background-color: #434B5C;\n",
              "      box-shadow: 0px 1px 3px 1px rgba(0, 0, 0, 0.15);\n",
              "      filter: drop-shadow(0px 1px 2px rgba(0, 0, 0, 0.3));\n",
              "      fill: #FFFFFF;\n",
              "    }\n",
              "  </style>\n",
              "\n",
              "    <script>\n",
              "      const buttonEl =\n",
              "        document.querySelector('#df-daa2377f-97d1-452c-b95b-0d13266ca6e5 button.colab-df-convert');\n",
              "      buttonEl.style.display =\n",
              "        google.colab.kernel.accessAllowed ? 'block' : 'none';\n",
              "\n",
              "      async function convertToInteractive(key) {\n",
              "        const element = document.querySelector('#df-daa2377f-97d1-452c-b95b-0d13266ca6e5');\n",
              "        const dataTable =\n",
              "          await google.colab.kernel.invokeFunction('convertToInteractive',\n",
              "                                                    [key], {});\n",
              "        if (!dataTable) return;\n",
              "\n",
              "        const docLinkHtml = 'Like what you see? Visit the ' +\n",
              "          '<a target=\"_blank\" href=https://colab.research.google.com/notebooks/data_table.ipynb>data table notebook</a>'\n",
              "          + ' to learn more about interactive tables.';\n",
              "        element.innerHTML = '';\n",
              "        dataTable['output_type'] = 'display_data';\n",
              "        await google.colab.output.renderOutput(dataTable, element);\n",
              "        const docLink = document.createElement('div');\n",
              "        docLink.innerHTML = docLinkHtml;\n",
              "        element.appendChild(docLink);\n",
              "      }\n",
              "    </script>\n",
              "  </div>\n",
              "\n",
              "\n",
              "<div id=\"df-5f621539-9b0a-4fc7-ae74-892cf4a49d05\">\n",
              "  <button class=\"colab-df-quickchart\" onclick=\"quickchart('df-5f621539-9b0a-4fc7-ae74-892cf4a49d05')\"\n",
              "            title=\"Suggest charts.\"\n",
              "            style=\"display:none;\">\n",
              "\n",
              "<svg xmlns=\"http://www.w3.org/2000/svg\" height=\"24px\"viewBox=\"0 0 24 24\"\n",
              "     width=\"24px\">\n",
              "    <g>\n",
              "        <path d=\"M19 3H5c-1.1 0-2 .9-2 2v14c0 1.1.9 2 2 2h14c1.1 0 2-.9 2-2V5c0-1.1-.9-2-2-2zM9 17H7v-7h2v7zm4 0h-2V7h2v10zm4 0h-2v-4h2v4z\"/>\n",
              "    </g>\n",
              "</svg>\n",
              "  </button>\n",
              "\n",
              "<style>\n",
              "  .colab-df-quickchart {\n",
              "      --bg-color: #E8F0FE;\n",
              "      --fill-color: #1967D2;\n",
              "      --hover-bg-color: #E2EBFA;\n",
              "      --hover-fill-color: #174EA6;\n",
              "      --disabled-fill-color: #AAA;\n",
              "      --disabled-bg-color: #DDD;\n",
              "  }\n",
              "\n",
              "  [theme=dark] .colab-df-quickchart {\n",
              "      --bg-color: #3B4455;\n",
              "      --fill-color: #D2E3FC;\n",
              "      --hover-bg-color: #434B5C;\n",
              "      --hover-fill-color: #FFFFFF;\n",
              "      --disabled-bg-color: #3B4455;\n",
              "      --disabled-fill-color: #666;\n",
              "  }\n",
              "\n",
              "  .colab-df-quickchart {\n",
              "    background-color: var(--bg-color);\n",
              "    border: none;\n",
              "    border-radius: 50%;\n",
              "    cursor: pointer;\n",
              "    display: none;\n",
              "    fill: var(--fill-color);\n",
              "    height: 32px;\n",
              "    padding: 0;\n",
              "    width: 32px;\n",
              "  }\n",
              "\n",
              "  .colab-df-quickchart:hover {\n",
              "    background-color: var(--hover-bg-color);\n",
              "    box-shadow: 0 1px 2px rgba(60, 64, 67, 0.3), 0 1px 3px 1px rgba(60, 64, 67, 0.15);\n",
              "    fill: var(--button-hover-fill-color);\n",
              "  }\n",
              "\n",
              "  .colab-df-quickchart-complete:disabled,\n",
              "  .colab-df-quickchart-complete:disabled:hover {\n",
              "    background-color: var(--disabled-bg-color);\n",
              "    fill: var(--disabled-fill-color);\n",
              "    box-shadow: none;\n",
              "  }\n",
              "\n",
              "  .colab-df-spinner {\n",
              "    border: 2px solid var(--fill-color);\n",
              "    border-color: transparent;\n",
              "    border-bottom-color: var(--fill-color);\n",
              "    animation:\n",
              "      spin 1s steps(1) infinite;\n",
              "  }\n",
              "\n",
              "  @keyframes spin {\n",
              "    0% {\n",
              "      border-color: transparent;\n",
              "      border-bottom-color: var(--fill-color);\n",
              "      border-left-color: var(--fill-color);\n",
              "    }\n",
              "    20% {\n",
              "      border-color: transparent;\n",
              "      border-left-color: var(--fill-color);\n",
              "      border-top-color: var(--fill-color);\n",
              "    }\n",
              "    30% {\n",
              "      border-color: transparent;\n",
              "      border-left-color: var(--fill-color);\n",
              "      border-top-color: var(--fill-color);\n",
              "      border-right-color: var(--fill-color);\n",
              "    }\n",
              "    40% {\n",
              "      border-color: transparent;\n",
              "      border-right-color: var(--fill-color);\n",
              "      border-top-color: var(--fill-color);\n",
              "    }\n",
              "    60% {\n",
              "      border-color: transparent;\n",
              "      border-right-color: var(--fill-color);\n",
              "    }\n",
              "    80% {\n",
              "      border-color: transparent;\n",
              "      border-right-color: var(--fill-color);\n",
              "      border-bottom-color: var(--fill-color);\n",
              "    }\n",
              "    90% {\n",
              "      border-color: transparent;\n",
              "      border-bottom-color: var(--fill-color);\n",
              "    }\n",
              "  }\n",
              "</style>\n",
              "\n",
              "  <script>\n",
              "    async function quickchart(key) {\n",
              "      const quickchartButtonEl =\n",
              "        document.querySelector('#' + key + ' button');\n",
              "      quickchartButtonEl.disabled = true;  // To prevent multiple clicks.\n",
              "      quickchartButtonEl.classList.add('colab-df-spinner');\n",
              "      try {\n",
              "        const charts = await google.colab.kernel.invokeFunction(\n",
              "            'suggestCharts', [key], {});\n",
              "      } catch (error) {\n",
              "        console.error('Error during call to suggestCharts:', error);\n",
              "      }\n",
              "      quickchartButtonEl.classList.remove('colab-df-spinner');\n",
              "      quickchartButtonEl.classList.add('colab-df-quickchart-complete');\n",
              "    }\n",
              "    (() => {\n",
              "      let quickchartButtonEl =\n",
              "        document.querySelector('#df-5f621539-9b0a-4fc7-ae74-892cf4a49d05 button');\n",
              "      quickchartButtonEl.style.display =\n",
              "        google.colab.kernel.accessAllowed ? 'block' : 'none';\n",
              "    })();\n",
              "  </script>\n",
              "</div>\n",
              "    </div>\n",
              "  </div>\n"
            ]
          },
          "metadata": {},
          "execution_count": 95
        }
      ]
    },
    {
      "cell_type": "code",
      "source": [
        "# save to new excel file\n",
        "khc_df_tw.to_excel('/content/drive/MyDrive/Zeno_KHC_Twitter/khc_twitter_JanAug_clean.xlsx', index=False)"
      ],
      "metadata": {
        "id": "w3PbT0uo8zvC"
      },
      "execution_count": null,
      "outputs": []
    },
    {
      "cell_type": "markdown",
      "source": [
        "# Directly read cleaned file"
      ],
      "metadata": {
        "id": "raM_Z6_cPlsm"
      }
    },
    {
      "cell_type": "code",
      "source": [
        "khc_df_tw = pd.read_excel('/content/drive/MyDrive/Zeno_KHC_Twitter/khc_twitter_JanAug_clean.xlsx')"
      ],
      "metadata": {
        "id": "Dcj6cqw4Ezua"
      },
      "execution_count": null,
      "outputs": []
    },
    {
      "cell_type": "markdown",
      "source": [
        "# Keywords: KeyBert"
      ],
      "metadata": {
        "id": "iSBlbmfdoR9Y"
      }
    },
    {
      "cell_type": "markdown",
      "source": [
        "--- 3111 rows takes approximately 10 mins (keywords:5, ngram:2) ---"
      ],
      "metadata": {
        "id": "PwZbuBQWAdO5"
      }
    },
    {
      "cell_type": "code",
      "execution_count": null,
      "metadata": {
        "id": "VhNT4Qqx90EB"
      },
      "outputs": [],
      "source": [
        "#!pip3 install keybert\n",
        "from keybert import KeyBERT"
      ]
    },
    {
      "cell_type": "code",
      "source": [
        "# enhance performance instead of n-gram\n",
        "#!pip3 install keyphrase-vectorizers\n",
        "#from keyphrase_vectorizers import KeyphraseCountVectorizer"
      ],
      "metadata": {
        "id": "Q-5RYR35QEA4"
      },
      "execution_count": null,
      "outputs": []
    },
    {
      "cell_type": "code",
      "source": [
        "# init default vectorizer\n",
        "#vectorizer = KeyphraseCountVectorizer()\n",
        "#print(vectorizer.get_params()) # print parameters\n",
        "\n",
        "# specify model\n",
        "kw_model = KeyBERT('all-MiniLM-L12-v2')\n",
        "# specify number of keywords to extract\n",
        "n_keywords = 5\n",
        "ngram = 2  # specify ngram of keywords"
      ],
      "metadata": {
        "id": "FeQoJ25bor6n"
      },
      "execution_count": null,
      "outputs": []
    },
    {
      "cell_type": "code",
      "source": [
        "# function to extract keywords for a batch of rows\n",
        "def get_keywords_batch(rows):\n",
        "    contents = rows['content'].tolist()\n",
        "    keywords_batch = kw_model.extract_keywords(contents, stop_words='english', highlight=False, top_n=n_keywords, keyphrase_ngram_range=(1, ngram), diversity=0.2)\n",
        "    return [[keyword[0] for keyword in keywords] for keywords in keywords_batch]"
      ],
      "metadata": {
        "id": "FDJ_aFCv981-"
      },
      "execution_count": null,
      "outputs": []
    },
    {
      "cell_type": "code",
      "source": [
        "# split the data into batches (higher effieciency)\n",
        "batch_size = 100\n",
        "batches = [khc_df_tw[i:i+batch_size] for i in range(0, len(khc_df_tw), batch_size)]"
      ],
      "metadata": {
        "id": "acmVAkuz988n"
      },
      "execution_count": null,
      "outputs": []
    },
    {
      "cell_type": "code",
      "source": [
        "# extract keywords for each batch and concatenate the results\n",
        "keyword_lists = []\n",
        "for batch in batches:\n",
        "    keyword_lists.extend(get_keywords_batch(batch))"
      ],
      "metadata": {
        "id": "C54lJyhf99Ap"
      },
      "execution_count": null,
      "outputs": []
    },
    {
      "cell_type": "code",
      "source": [
        "# add the keyword lists as a new column to the DataFrame\n",
        "khc_df_tw['keywords'] = keyword_lists"
      ],
      "metadata": {
        "id": "bvdGPXaS99FU"
      },
      "execution_count": null,
      "outputs": []
    },
    {
      "cell_type": "code",
      "source": [
        "# format to better fit in Excel\n",
        "khc_df_tw['keywords'] = khc_df_tw['keywords'].apply(lambda x: ', '.join(x))"
      ],
      "metadata": {
        "id": "MkkUJxRtr91c"
      },
      "execution_count": null,
      "outputs": []
    },
    {
      "cell_type": "code",
      "source": [
        "khc_df_tw.head()"
      ],
      "metadata": {
        "id": "8muCM6PQCo0G"
      },
      "execution_count": null,
      "outputs": []
    },
    {
      "cell_type": "code",
      "source": [
        "khc_df_tw.to_excel('/content/drive/MyDrive/Zeno_KHC_Twitter/khc_twitter_JanAug_key5gram2_0913.xlsx', index=False)"
      ],
      "metadata": {
        "id": "iWsjlKdFgIYx"
      },
      "execution_count": null,
      "outputs": []
    },
    {
      "cell_type": "markdown",
      "source": [
        "# Directly read file with keywords"
      ],
      "metadata": {
        "id": "DbVLBMIzDjQe"
      }
    },
    {
      "cell_type": "code",
      "source": [
        "khc_df_tw = pd.read_excel('/content/drive/MyDrive/Zeno_KHC_Twitter/khc_twitter_JanAug_key5gram2_0913.xlsx')"
      ],
      "metadata": {
        "id": "G8y6uREOrBwH"
      },
      "execution_count": null,
      "outputs": []
    },
    {
      "cell_type": "markdown",
      "source": [
        "# Sentiment: TwitterBERT"
      ],
      "metadata": {
        "id": "pOL9JUUcFZR8"
      }
    },
    {
      "cell_type": "markdown",
      "source": [
        "--- 3110 rows, break into 500 each, each runs around 2 mins ---"
      ],
      "metadata": {
        "id": "ch2GnHs6TeMb"
      }
    },
    {
      "cell_type": "code",
      "source": [
        "#!pip3 install transformers"
      ],
      "metadata": {
        "id": "feWpChvrDvmy"
      },
      "execution_count": null,
      "outputs": []
    },
    {
      "cell_type": "code",
      "source": [
        "# break into 6 group\n",
        "khc_df_tw1 = khc_df_tw.iloc[:500,:]\n",
        "khc_df_tw2 = khc_df_tw.iloc[500:1000,:]\n",
        "khc_df_tw3 = khc_df_tw.iloc[1000:1500,:]\n",
        "khc_df_tw4 = khc_df_tw.iloc[1500:2000,:]\n",
        "khc_df_tw5 = khc_df_tw.iloc[2000:2500,:]\n",
        "khc_df_tw6 = khc_df_tw.iloc[2500:,:]"
      ],
      "metadata": {
        "id": "xg9HtlS-hFnN"
      },
      "execution_count": null,
      "outputs": []
    },
    {
      "cell_type": "code",
      "source": [
        "khc_df_tw6"
      ],
      "metadata": {
        "id": "mWjOVQNKL8Z2"
      },
      "execution_count": null,
      "outputs": []
    },
    {
      "cell_type": "code",
      "source": [
        "from transformers import AutoModelForSequenceClassification, AutoTokenizer, AutoConfig\n",
        "from scipy.special import softmax\n",
        "\n",
        "# Define the model and tokenizer\n",
        "MODEL = \"cardiffnlp/twitter-roberta-base-sentiment-latest\"\n",
        "tokenizer = AutoTokenizer.from_pretrained(MODEL)\n",
        "config = AutoConfig.from_pretrained(MODEL)\n",
        "model = AutoModelForSequenceClassification.from_pretrained(MODEL)"
      ],
      "metadata": {
        "colab": {
          "base_uri": "https://localhost:8080/"
        },
        "id": "j7Mea6WiL39I",
        "outputId": "81a898b9-fee1-43a7-9fd0-6b71d5347122"
      },
      "execution_count": null,
      "outputs": [
        {
          "output_type": "stream",
          "name": "stderr",
          "text": [
            "Some weights of the model checkpoint at cardiffnlp/twitter-roberta-base-sentiment-latest were not used when initializing RobertaForSequenceClassification: ['roberta.pooler.dense.bias', 'roberta.pooler.dense.weight']\n",
            "- This IS expected if you are initializing RobertaForSequenceClassification from the checkpoint of a model trained on another task or with another architecture (e.g. initializing a BertForSequenceClassification model from a BertForPreTraining model).\n",
            "- This IS NOT expected if you are initializing RobertaForSequenceClassification from the checkpoint of a model that you expect to be exactly identical (initializing a BertForSequenceClassification model from a BertForSequenceClassification model).\n"
          ]
        }
      ]
    },
    {
      "cell_type": "code",
      "source": [
        "# Function to preprocess text (username and link placeholders)\n",
        "def preprocess(text):\n",
        "    new_text = []\n",
        "    for t in text.split(\" \"):\n",
        "        t = '@user' if t.startswith('@') and len(t) > 1 else t\n",
        "        t = 'http' if t.startswith('http') else t\n",
        "        new_text.append(t)\n",
        "    return \" \".join(new_text)\n",
        "\n",
        "# Function to analyze sentiment and add results to DataFrame\n",
        "def analyze_sentiment(row):\n",
        "    text = row[\"content\"]\n",
        "    text = preprocess(text)\n",
        "    encoded_input = tokenizer(text, return_tensors='pt')\n",
        "    output = model(**encoded_input)\n",
        "    scores = output[0][0].detach().numpy()\n",
        "    scores = softmax(scores)\n",
        "    ranking = np.argsort(scores)\n",
        "    ranking = ranking[::-1]\n",
        "    sentiment_label = config.id2label[ranking[0]]\n",
        "    sentiment_score = np.round(float(scores[ranking[0]]), 4)\n",
        "    return sentiment_label, sentiment_score\n",
        "\n",
        "# Apply sentiment analysis to the DataFrame\n",
        "khc_df_tw1[\"roberta sentiment class\"], khc_df_tw1[\"roberta sentiment score\"] = zip(*khc_df_tw1.apply(analyze_sentiment, axis=1))"
      ],
      "metadata": {
        "colab": {
          "base_uri": "https://localhost:8080/"
        },
        "id": "_CzA6x03kgRh",
        "outputId": "4f2ee9fd-56fc-45de-8494-5c6a584e2f0e"
      },
      "execution_count": null,
      "outputs": [
        {
          "output_type": "stream",
          "name": "stderr",
          "text": [
            "<ipython-input-40-5b3ee80a7c62>:25: SettingWithCopyWarning: \n",
            "A value is trying to be set on a copy of a slice from a DataFrame.\n",
            "Try using .loc[row_indexer,col_indexer] = value instead\n",
            "\n",
            "See the caveats in the documentation: https://pandas.pydata.org/pandas-docs/stable/user_guide/indexing.html#returning-a-view-versus-a-copy\n",
            "  khc_df_tw1[\"roberta sentiment class\"], khc_df_tw1[\"roberta sentiment score\"] = zip(*khc_df_tw1.apply(analyze_sentiment, axis=1))\n",
            "<ipython-input-40-5b3ee80a7c62>:25: SettingWithCopyWarning: \n",
            "A value is trying to be set on a copy of a slice from a DataFrame.\n",
            "Try using .loc[row_indexer,col_indexer] = value instead\n",
            "\n",
            "See the caveats in the documentation: https://pandas.pydata.org/pandas-docs/stable/user_guide/indexing.html#returning-a-view-versus-a-copy\n",
            "  khc_df_tw1[\"roberta sentiment class\"], khc_df_tw1[\"roberta sentiment score\"] = zip(*khc_df_tw1.apply(analyze_sentiment, axis=1))\n"
          ]
        }
      ]
    },
    {
      "cell_type": "code",
      "source": [
        "khc_df_tw2[\"roberta sentiment class\"], khc_df_tw2[\"roberta sentiment score\"] = zip(*khc_df_tw2.apply(analyze_sentiment, axis=1))"
      ],
      "metadata": {
        "colab": {
          "base_uri": "https://localhost:8080/"
        },
        "id": "LaNyZqYhQPgn",
        "outputId": "e189e2cc-4c0f-4f90-94ec-27b1b2c66cfd"
      },
      "execution_count": null,
      "outputs": [
        {
          "output_type": "stream",
          "name": "stderr",
          "text": [
            "<ipython-input-41-e2845d952d8c>:1: SettingWithCopyWarning: \n",
            "A value is trying to be set on a copy of a slice from a DataFrame.\n",
            "Try using .loc[row_indexer,col_indexer] = value instead\n",
            "\n",
            "See the caveats in the documentation: https://pandas.pydata.org/pandas-docs/stable/user_guide/indexing.html#returning-a-view-versus-a-copy\n",
            "  khc_df_tw2[\"roberta sentiment class\"], khc_df_tw2[\"roberta sentiment score\"] = zip(*khc_df_tw2.apply(analyze_sentiment, axis=1))\n",
            "<ipython-input-41-e2845d952d8c>:1: SettingWithCopyWarning: \n",
            "A value is trying to be set on a copy of a slice from a DataFrame.\n",
            "Try using .loc[row_indexer,col_indexer] = value instead\n",
            "\n",
            "See the caveats in the documentation: https://pandas.pydata.org/pandas-docs/stable/user_guide/indexing.html#returning-a-view-versus-a-copy\n",
            "  khc_df_tw2[\"roberta sentiment class\"], khc_df_tw2[\"roberta sentiment score\"] = zip(*khc_df_tw2.apply(analyze_sentiment, axis=1))\n"
          ]
        }
      ]
    },
    {
      "cell_type": "code",
      "source": [
        "khc_df_tw3[\"roberta sentiment class\"], khc_df_tw3[\"roberta sentiment score\"] = zip(*khc_df_tw3.apply(analyze_sentiment, axis=1))"
      ],
      "metadata": {
        "colab": {
          "base_uri": "https://localhost:8080/"
        },
        "id": "ywG3dw4jQPnq",
        "outputId": "d5c9fc0e-39d2-40c8-e827-c214284cb406"
      },
      "execution_count": null,
      "outputs": [
        {
          "output_type": "stream",
          "name": "stderr",
          "text": [
            "<ipython-input-42-26547da2cbe2>:1: SettingWithCopyWarning: \n",
            "A value is trying to be set on a copy of a slice from a DataFrame.\n",
            "Try using .loc[row_indexer,col_indexer] = value instead\n",
            "\n",
            "See the caveats in the documentation: https://pandas.pydata.org/pandas-docs/stable/user_guide/indexing.html#returning-a-view-versus-a-copy\n",
            "  khc_df_tw3[\"roberta sentiment class\"], khc_df_tw3[\"roberta sentiment score\"] = zip(*khc_df_tw3.apply(analyze_sentiment, axis=1))\n",
            "<ipython-input-42-26547da2cbe2>:1: SettingWithCopyWarning: \n",
            "A value is trying to be set on a copy of a slice from a DataFrame.\n",
            "Try using .loc[row_indexer,col_indexer] = value instead\n",
            "\n",
            "See the caveats in the documentation: https://pandas.pydata.org/pandas-docs/stable/user_guide/indexing.html#returning-a-view-versus-a-copy\n",
            "  khc_df_tw3[\"roberta sentiment class\"], khc_df_tw3[\"roberta sentiment score\"] = zip(*khc_df_tw3.apply(analyze_sentiment, axis=1))\n"
          ]
        }
      ]
    },
    {
      "cell_type": "code",
      "source": [
        "khc_df_tw4[\"roberta sentiment class\"], khc_df_tw4[\"roberta sentiment score\"] = zip(*khc_df_tw4.apply(analyze_sentiment, axis=1))"
      ],
      "metadata": {
        "colab": {
          "base_uri": "https://localhost:8080/"
        },
        "id": "lqbEu7JyQPtT",
        "outputId": "6390f158-27c6-42c6-ebfe-e5bbab3d40e8"
      },
      "execution_count": null,
      "outputs": [
        {
          "output_type": "stream",
          "name": "stderr",
          "text": [
            "<ipython-input-43-9de3b711d4d3>:1: SettingWithCopyWarning: \n",
            "A value is trying to be set on a copy of a slice from a DataFrame.\n",
            "Try using .loc[row_indexer,col_indexer] = value instead\n",
            "\n",
            "See the caveats in the documentation: https://pandas.pydata.org/pandas-docs/stable/user_guide/indexing.html#returning-a-view-versus-a-copy\n",
            "  khc_df_tw4[\"roberta sentiment class\"], khc_df_tw4[\"roberta sentiment score\"] = zip(*khc_df_tw4.apply(analyze_sentiment, axis=1))\n",
            "<ipython-input-43-9de3b711d4d3>:1: SettingWithCopyWarning: \n",
            "A value is trying to be set on a copy of a slice from a DataFrame.\n",
            "Try using .loc[row_indexer,col_indexer] = value instead\n",
            "\n",
            "See the caveats in the documentation: https://pandas.pydata.org/pandas-docs/stable/user_guide/indexing.html#returning-a-view-versus-a-copy\n",
            "  khc_df_tw4[\"roberta sentiment class\"], khc_df_tw4[\"roberta sentiment score\"] = zip(*khc_df_tw4.apply(analyze_sentiment, axis=1))\n"
          ]
        }
      ]
    },
    {
      "cell_type": "code",
      "source": [
        "khc_df_tw5[\"roberta sentiment class\"], khc_df_tw5[\"roberta sentiment score\"] = zip(*khc_df_tw5.apply(analyze_sentiment, axis=1))"
      ],
      "metadata": {
        "colab": {
          "base_uri": "https://localhost:8080/"
        },
        "id": "IDLgiURAQPyg",
        "outputId": "f5f6fc86-dd4d-4082-82cb-884a7d294f0d"
      },
      "execution_count": null,
      "outputs": [
        {
          "output_type": "stream",
          "name": "stderr",
          "text": [
            "<ipython-input-44-515006ec4e98>:1: SettingWithCopyWarning: \n",
            "A value is trying to be set on a copy of a slice from a DataFrame.\n",
            "Try using .loc[row_indexer,col_indexer] = value instead\n",
            "\n",
            "See the caveats in the documentation: https://pandas.pydata.org/pandas-docs/stable/user_guide/indexing.html#returning-a-view-versus-a-copy\n",
            "  khc_df_tw5[\"roberta sentiment class\"], khc_df_tw5[\"roberta sentiment score\"] = zip(*khc_df_tw5.apply(analyze_sentiment, axis=1))\n",
            "<ipython-input-44-515006ec4e98>:1: SettingWithCopyWarning: \n",
            "A value is trying to be set on a copy of a slice from a DataFrame.\n",
            "Try using .loc[row_indexer,col_indexer] = value instead\n",
            "\n",
            "See the caveats in the documentation: https://pandas.pydata.org/pandas-docs/stable/user_guide/indexing.html#returning-a-view-versus-a-copy\n",
            "  khc_df_tw5[\"roberta sentiment class\"], khc_df_tw5[\"roberta sentiment score\"] = zip(*khc_df_tw5.apply(analyze_sentiment, axis=1))\n"
          ]
        }
      ]
    },
    {
      "cell_type": "code",
      "source": [
        "khc_df_tw6[\"roberta sentiment class\"], khc_df_tw6[\"roberta sentiment score\"] = zip(*khc_df_tw6.apply(analyze_sentiment, axis=1))"
      ],
      "metadata": {
        "colab": {
          "base_uri": "https://localhost:8080/"
        },
        "id": "XfNYySKWQP3v",
        "outputId": "1f1314b3-fc4d-4cd2-8d6c-bf1bc9334e3a"
      },
      "execution_count": null,
      "outputs": [
        {
          "output_type": "stream",
          "name": "stderr",
          "text": [
            "<ipython-input-45-3ddd860a5994>:1: SettingWithCopyWarning: \n",
            "A value is trying to be set on a copy of a slice from a DataFrame.\n",
            "Try using .loc[row_indexer,col_indexer] = value instead\n",
            "\n",
            "See the caveats in the documentation: https://pandas.pydata.org/pandas-docs/stable/user_guide/indexing.html#returning-a-view-versus-a-copy\n",
            "  khc_df_tw6[\"roberta sentiment class\"], khc_df_tw6[\"roberta sentiment score\"] = zip(*khc_df_tw6.apply(analyze_sentiment, axis=1))\n",
            "<ipython-input-45-3ddd860a5994>:1: SettingWithCopyWarning: \n",
            "A value is trying to be set on a copy of a slice from a DataFrame.\n",
            "Try using .loc[row_indexer,col_indexer] = value instead\n",
            "\n",
            "See the caveats in the documentation: https://pandas.pydata.org/pandas-docs/stable/user_guide/indexing.html#returning-a-view-versus-a-copy\n",
            "  khc_df_tw6[\"roberta sentiment class\"], khc_df_tw6[\"roberta sentiment score\"] = zip(*khc_df_tw6.apply(analyze_sentiment, axis=1))\n"
          ]
        }
      ]
    },
    {
      "cell_type": "code",
      "source": [
        "# merge 6 data\n",
        "khc_df = pd.concat([khc_df_tw1, khc_df_tw2, khc_df_tw3, khc_df_tw4, khc_df_tw5, khc_df_tw6], axis=0)"
      ],
      "metadata": {
        "id": "0Yw1A1dYDYCL"
      },
      "execution_count": null,
      "outputs": []
    },
    {
      "cell_type": "code",
      "source": [
        "khc_df.head()"
      ],
      "metadata": {
        "colab": {
          "base_uri": "https://localhost:8080/",
          "height": 328
        },
        "id": "61UNaCJMfxEj",
        "outputId": "776ac3ea-f0a5-4f76-c917-b1ea6fde84ef"
      },
      "execution_count": null,
      "outputs": [
        {
          "output_type": "execute_result",
          "data": {
            "text/plain": [
              "                               id  search   source  \\\n",
              "0  0_104815_8_1609539758241484801  104815  Twitter   \n",
              "1  0_104815_8_1609589331206836224  104815  Twitter   \n",
              "2  0_104815_8_1609705628557275136  104815  Twitter   \n",
              "3  0_104815_8_1609732418335899651  104815  Twitter   \n",
              "4  0_104815_8_1609742063314309120  104815  Twitter   \n",
              "\n",
              "                                             content                date  \\\n",
              "0    You mean \"Catsup.\" Seriously, Hunts had a br... 2023-01-01 13:19:16   \n",
              "1     I smell a charity stream here…Each mileston... 2023-01-01 16:36:15   \n",
              "2  if anyone wants to get  fired up ask them abou... 2023-01-02 00:18:23   \n",
              "3  just so you know, I work in a supermarket and ... 2023-01-02 02:04:50   \n",
              "4     So hard to believe Velveeta Voldemort suppo... 2023-01-02 02:43:10   \n",
              "\n",
              "                                                 url  \\\n",
              "0  https://twitter.com/phillips_allen1/status/160...   \n",
              "1  https://twitter.com/Samos89/status/16095893312...   \n",
              "2  https://twitter.com/rina_hamon/status/16097056...   \n",
              "3  https://twitter.com/sekcbich/status/1609732418...   \n",
              "4  https://twitter.com/leftcoastbabe/status/16097...   \n",
              "\n",
              "                                              topics sentiment class  \\\n",
              "0  Ketchup,Tomato products,Condiments,Sauces,Toma...         neutral   \n",
              "1  Legumes,Food industry,Food and drink preparati...        positive   \n",
              "2                                                NaN         neutral   \n",
              "3  Food companies,Production and manufacturing,Fo...        positive   \n",
              "4                                                NaN        negative   \n",
              "\n",
              "                                            keywords roberta sentiment class  \n",
              "0  ketchup, catsup, product ketchup, catsup serio...                 neutral  \n",
              "1  heinz beans, different heinz, heinz, beans, be...                 neutral  \n",
              "2  tub pickling, pickling kit, heinz plastic, pla...                 neutral  \n",
              "3  packaging heinz, supermarket plastic, heinz be...                negative  \n",
              "4  think moderate, kevin mccarthy, voldemort supp...                negative  "
            ],
            "text/html": [
              "\n",
              "  <div id=\"df-0167d4dc-6b80-4023-aa34-656054872aef\" class=\"colab-df-container\">\n",
              "    <div>\n",
              "<style scoped>\n",
              "    .dataframe tbody tr th:only-of-type {\n",
              "        vertical-align: middle;\n",
              "    }\n",
              "\n",
              "    .dataframe tbody tr th {\n",
              "        vertical-align: top;\n",
              "    }\n",
              "\n",
              "    .dataframe thead th {\n",
              "        text-align: right;\n",
              "    }\n",
              "</style>\n",
              "<table border=\"1\" class=\"dataframe\">\n",
              "  <thead>\n",
              "    <tr style=\"text-align: right;\">\n",
              "      <th></th>\n",
              "      <th>id</th>\n",
              "      <th>search</th>\n",
              "      <th>source</th>\n",
              "      <th>content</th>\n",
              "      <th>date</th>\n",
              "      <th>url</th>\n",
              "      <th>topics</th>\n",
              "      <th>sentiment class</th>\n",
              "      <th>keywords</th>\n",
              "      <th>roberta sentiment class</th>\n",
              "    </tr>\n",
              "  </thead>\n",
              "  <tbody>\n",
              "    <tr>\n",
              "      <th>0</th>\n",
              "      <td>0_104815_8_1609539758241484801</td>\n",
              "      <td>104815</td>\n",
              "      <td>Twitter</td>\n",
              "      <td>You mean \"Catsup.\" Seriously, Hunts had a br...</td>\n",
              "      <td>2023-01-01 13:19:16</td>\n",
              "      <td>https://twitter.com/phillips_allen1/status/160...</td>\n",
              "      <td>Ketchup,Tomato products,Condiments,Sauces,Toma...</td>\n",
              "      <td>neutral</td>\n",
              "      <td>ketchup, catsup, product ketchup, catsup serio...</td>\n",
              "      <td>neutral</td>\n",
              "    </tr>\n",
              "    <tr>\n",
              "      <th>1</th>\n",
              "      <td>0_104815_8_1609589331206836224</td>\n",
              "      <td>104815</td>\n",
              "      <td>Twitter</td>\n",
              "      <td>I smell a charity stream here…Each mileston...</td>\n",
              "      <td>2023-01-01 16:36:15</td>\n",
              "      <td>https://twitter.com/Samos89/status/16095893312...</td>\n",
              "      <td>Legumes,Food industry,Food and drink preparati...</td>\n",
              "      <td>positive</td>\n",
              "      <td>heinz beans, different heinz, heinz, beans, be...</td>\n",
              "      <td>neutral</td>\n",
              "    </tr>\n",
              "    <tr>\n",
              "      <th>2</th>\n",
              "      <td>0_104815_8_1609705628557275136</td>\n",
              "      <td>104815</td>\n",
              "      <td>Twitter</td>\n",
              "      <td>if anyone wants to get  fired up ask them abou...</td>\n",
              "      <td>2023-01-02 00:18:23</td>\n",
              "      <td>https://twitter.com/rina_hamon/status/16097056...</td>\n",
              "      <td>NaN</td>\n",
              "      <td>neutral</td>\n",
              "      <td>tub pickling, pickling kit, heinz plastic, pla...</td>\n",
              "      <td>neutral</td>\n",
              "    </tr>\n",
              "    <tr>\n",
              "      <th>3</th>\n",
              "      <td>0_104815_8_1609732418335899651</td>\n",
              "      <td>104815</td>\n",
              "      <td>Twitter</td>\n",
              "      <td>just so you know, I work in a supermarket and ...</td>\n",
              "      <td>2023-01-02 02:04:50</td>\n",
              "      <td>https://twitter.com/sekcbich/status/1609732418...</td>\n",
              "      <td>Food companies,Production and manufacturing,Fo...</td>\n",
              "      <td>positive</td>\n",
              "      <td>packaging heinz, supermarket plastic, heinz be...</td>\n",
              "      <td>negative</td>\n",
              "    </tr>\n",
              "    <tr>\n",
              "      <th>4</th>\n",
              "      <td>0_104815_8_1609742063314309120</td>\n",
              "      <td>104815</td>\n",
              "      <td>Twitter</td>\n",
              "      <td>So hard to believe Velveeta Voldemort suppo...</td>\n",
              "      <td>2023-01-02 02:43:10</td>\n",
              "      <td>https://twitter.com/leftcoastbabe/status/16097...</td>\n",
              "      <td>NaN</td>\n",
              "      <td>negative</td>\n",
              "      <td>think moderate, kevin mccarthy, voldemort supp...</td>\n",
              "      <td>negative</td>\n",
              "    </tr>\n",
              "  </tbody>\n",
              "</table>\n",
              "</div>\n",
              "    <div class=\"colab-df-buttons\">\n",
              "\n",
              "  <div class=\"colab-df-container\">\n",
              "    <button class=\"colab-df-convert\" onclick=\"convertToInteractive('df-0167d4dc-6b80-4023-aa34-656054872aef')\"\n",
              "            title=\"Convert this dataframe to an interactive table.\"\n",
              "            style=\"display:none;\">\n",
              "\n",
              "  <svg xmlns=\"http://www.w3.org/2000/svg\" height=\"24px\" viewBox=\"0 -960 960 960\">\n",
              "    <path d=\"M120-120v-720h720v720H120Zm60-500h600v-160H180v160Zm220 220h160v-160H400v160Zm0 220h160v-160H400v160ZM180-400h160v-160H180v160Zm440 0h160v-160H620v160ZM180-180h160v-160H180v160Zm440 0h160v-160H620v160Z\"/>\n",
              "  </svg>\n",
              "    </button>\n",
              "\n",
              "  <style>\n",
              "    .colab-df-container {\n",
              "      display:flex;\n",
              "      gap: 12px;\n",
              "    }\n",
              "\n",
              "    .colab-df-convert {\n",
              "      background-color: #E8F0FE;\n",
              "      border: none;\n",
              "      border-radius: 50%;\n",
              "      cursor: pointer;\n",
              "      display: none;\n",
              "      fill: #1967D2;\n",
              "      height: 32px;\n",
              "      padding: 0 0 0 0;\n",
              "      width: 32px;\n",
              "    }\n",
              "\n",
              "    .colab-df-convert:hover {\n",
              "      background-color: #E2EBFA;\n",
              "      box-shadow: 0px 1px 2px rgba(60, 64, 67, 0.3), 0px 1px 3px 1px rgba(60, 64, 67, 0.15);\n",
              "      fill: #174EA6;\n",
              "    }\n",
              "\n",
              "    .colab-df-buttons div {\n",
              "      margin-bottom: 4px;\n",
              "    }\n",
              "\n",
              "    [theme=dark] .colab-df-convert {\n",
              "      background-color: #3B4455;\n",
              "      fill: #D2E3FC;\n",
              "    }\n",
              "\n",
              "    [theme=dark] .colab-df-convert:hover {\n",
              "      background-color: #434B5C;\n",
              "      box-shadow: 0px 1px 3px 1px rgba(0, 0, 0, 0.15);\n",
              "      filter: drop-shadow(0px 1px 2px rgba(0, 0, 0, 0.3));\n",
              "      fill: #FFFFFF;\n",
              "    }\n",
              "  </style>\n",
              "\n",
              "    <script>\n",
              "      const buttonEl =\n",
              "        document.querySelector('#df-0167d4dc-6b80-4023-aa34-656054872aef button.colab-df-convert');\n",
              "      buttonEl.style.display =\n",
              "        google.colab.kernel.accessAllowed ? 'block' : 'none';\n",
              "\n",
              "      async function convertToInteractive(key) {\n",
              "        const element = document.querySelector('#df-0167d4dc-6b80-4023-aa34-656054872aef');\n",
              "        const dataTable =\n",
              "          await google.colab.kernel.invokeFunction('convertToInteractive',\n",
              "                                                    [key], {});\n",
              "        if (!dataTable) return;\n",
              "\n",
              "        const docLinkHtml = 'Like what you see? Visit the ' +\n",
              "          '<a target=\"_blank\" href=https://colab.research.google.com/notebooks/data_table.ipynb>data table notebook</a>'\n",
              "          + ' to learn more about interactive tables.';\n",
              "        element.innerHTML = '';\n",
              "        dataTable['output_type'] = 'display_data';\n",
              "        await google.colab.output.renderOutput(dataTable, element);\n",
              "        const docLink = document.createElement('div');\n",
              "        docLink.innerHTML = docLinkHtml;\n",
              "        element.appendChild(docLink);\n",
              "      }\n",
              "    </script>\n",
              "  </div>\n",
              "\n",
              "\n",
              "<div id=\"df-264d7873-3e39-40a5-871f-81c19dc848d2\">\n",
              "  <button class=\"colab-df-quickchart\" onclick=\"quickchart('df-264d7873-3e39-40a5-871f-81c19dc848d2')\"\n",
              "            title=\"Suggest charts.\"\n",
              "            style=\"display:none;\">\n",
              "\n",
              "<svg xmlns=\"http://www.w3.org/2000/svg\" height=\"24px\"viewBox=\"0 0 24 24\"\n",
              "     width=\"24px\">\n",
              "    <g>\n",
              "        <path d=\"M19 3H5c-1.1 0-2 .9-2 2v14c0 1.1.9 2 2 2h14c1.1 0 2-.9 2-2V5c0-1.1-.9-2-2-2zM9 17H7v-7h2v7zm4 0h-2V7h2v10zm4 0h-2v-4h2v4z\"/>\n",
              "    </g>\n",
              "</svg>\n",
              "  </button>\n",
              "\n",
              "<style>\n",
              "  .colab-df-quickchart {\n",
              "      --bg-color: #E8F0FE;\n",
              "      --fill-color: #1967D2;\n",
              "      --hover-bg-color: #E2EBFA;\n",
              "      --hover-fill-color: #174EA6;\n",
              "      --disabled-fill-color: #AAA;\n",
              "      --disabled-bg-color: #DDD;\n",
              "  }\n",
              "\n",
              "  [theme=dark] .colab-df-quickchart {\n",
              "      --bg-color: #3B4455;\n",
              "      --fill-color: #D2E3FC;\n",
              "      --hover-bg-color: #434B5C;\n",
              "      --hover-fill-color: #FFFFFF;\n",
              "      --disabled-bg-color: #3B4455;\n",
              "      --disabled-fill-color: #666;\n",
              "  }\n",
              "\n",
              "  .colab-df-quickchart {\n",
              "    background-color: var(--bg-color);\n",
              "    border: none;\n",
              "    border-radius: 50%;\n",
              "    cursor: pointer;\n",
              "    display: none;\n",
              "    fill: var(--fill-color);\n",
              "    height: 32px;\n",
              "    padding: 0;\n",
              "    width: 32px;\n",
              "  }\n",
              "\n",
              "  .colab-df-quickchart:hover {\n",
              "    background-color: var(--hover-bg-color);\n",
              "    box-shadow: 0 1px 2px rgba(60, 64, 67, 0.3), 0 1px 3px 1px rgba(60, 64, 67, 0.15);\n",
              "    fill: var(--button-hover-fill-color);\n",
              "  }\n",
              "\n",
              "  .colab-df-quickchart-complete:disabled,\n",
              "  .colab-df-quickchart-complete:disabled:hover {\n",
              "    background-color: var(--disabled-bg-color);\n",
              "    fill: var(--disabled-fill-color);\n",
              "    box-shadow: none;\n",
              "  }\n",
              "\n",
              "  .colab-df-spinner {\n",
              "    border: 2px solid var(--fill-color);\n",
              "    border-color: transparent;\n",
              "    border-bottom-color: var(--fill-color);\n",
              "    animation:\n",
              "      spin 1s steps(1) infinite;\n",
              "  }\n",
              "\n",
              "  @keyframes spin {\n",
              "    0% {\n",
              "      border-color: transparent;\n",
              "      border-bottom-color: var(--fill-color);\n",
              "      border-left-color: var(--fill-color);\n",
              "    }\n",
              "    20% {\n",
              "      border-color: transparent;\n",
              "      border-left-color: var(--fill-color);\n",
              "      border-top-color: var(--fill-color);\n",
              "    }\n",
              "    30% {\n",
              "      border-color: transparent;\n",
              "      border-left-color: var(--fill-color);\n",
              "      border-top-color: var(--fill-color);\n",
              "      border-right-color: var(--fill-color);\n",
              "    }\n",
              "    40% {\n",
              "      border-color: transparent;\n",
              "      border-right-color: var(--fill-color);\n",
              "      border-top-color: var(--fill-color);\n",
              "    }\n",
              "    60% {\n",
              "      border-color: transparent;\n",
              "      border-right-color: var(--fill-color);\n",
              "    }\n",
              "    80% {\n",
              "      border-color: transparent;\n",
              "      border-right-color: var(--fill-color);\n",
              "      border-bottom-color: var(--fill-color);\n",
              "    }\n",
              "    90% {\n",
              "      border-color: transparent;\n",
              "      border-bottom-color: var(--fill-color);\n",
              "    }\n",
              "  }\n",
              "</style>\n",
              "\n",
              "  <script>\n",
              "    async function quickchart(key) {\n",
              "      const quickchartButtonEl =\n",
              "        document.querySelector('#' + key + ' button');\n",
              "      quickchartButtonEl.disabled = true;  // To prevent multiple clicks.\n",
              "      quickchartButtonEl.classList.add('colab-df-spinner');\n",
              "      try {\n",
              "        const charts = await google.colab.kernel.invokeFunction(\n",
              "            'suggestCharts', [key], {});\n",
              "      } catch (error) {\n",
              "        console.error('Error during call to suggestCharts:', error);\n",
              "      }\n",
              "      quickchartButtonEl.classList.remove('colab-df-spinner');\n",
              "      quickchartButtonEl.classList.add('colab-df-quickchart-complete');\n",
              "    }\n",
              "    (() => {\n",
              "      let quickchartButtonEl =\n",
              "        document.querySelector('#df-264d7873-3e39-40a5-871f-81c19dc848d2 button');\n",
              "      quickchartButtonEl.style.display =\n",
              "        google.colab.kernel.accessAllowed ? 'block' : 'none';\n",
              "    })();\n",
              "  </script>\n",
              "</div>\n",
              "    </div>\n",
              "  </div>\n"
            ]
          },
          "metadata": {},
          "execution_count": 55
        }
      ]
    },
    {
      "cell_type": "code",
      "source": [
        "# check the sentiment quality\n",
        "khc_df.iloc[:,[3,-6,-2]]"
      ],
      "metadata": {
        "colab": {
          "base_uri": "https://localhost:8080/",
          "height": 424
        },
        "id": "IAH2S2fbUPNd",
        "outputId": "71adbc48-ad4c-4e36-c569-23e7e23a0ca4"
      },
      "execution_count": null,
      "outputs": [
        {
          "output_type": "execute_result",
          "data": {
            "text/plain": [
              "                                                content                date  \\\n",
              "0       You mean \"Catsup.\" Seriously, Hunts had a br... 2023-01-01 13:19:16   \n",
              "1        I smell a charity stream here…Each mileston... 2023-01-01 16:36:15   \n",
              "2     if anyone wants to get  fired up ask them abou... 2023-01-02 00:18:23   \n",
              "3     just so you know, I work in a supermarket and ... 2023-01-02 02:04:50   \n",
              "4        So hard to believe Velveeta Voldemort suppo... 2023-01-02 02:43:10   \n",
              "...                                                 ...                 ...   \n",
              "3106  Entered into the Ambient Food category by Kraf... 2023-08-30 10:22:04   \n",
              "3107      Because no one taught him how to shop for ... 2023-08-30 16:03:31   \n",
              "3108  Just saw some weird lunatic's posts who, while... 2023-08-31 04:15:48   \n",
              "3109  Boozy confections of Eggos, Arby's French-fry-... 2023-08-31 16:55:31   \n",
              "3110  Cooked up a box of Kraft Mac and cheese for a ... 2023-08-31 19:46:23   \n",
              "\n",
              "                                               keywords  \n",
              "0     ketchup, catsup, product ketchup, catsup serio...  \n",
              "1     heinz beans, different heinz, heinz, beans, be...  \n",
              "2     tub pickling, pickling kit, heinz plastic, pla...  \n",
              "3     packaging heinz, supermarket plastic, heinz be...  \n",
              "4     think moderate, kevin mccarthy, voldemort supp...  \n",
              "...                                                 ...  \n",
              "3106  plastic sustainability, recycled plastic, snap...  \n",
              "3107  republican expensive, shop cheaper, cheaper pr...  \n",
              "3108  cheese, cheese really, like cheese, cheese thi...  \n",
              "3109  vodka oreo, confections eggos, boozy confectio...  \n",
              "3110  noodles, noodles half, batch noodles, mac chee...  \n",
              "\n",
              "[3111 rows x 3 columns]"
            ],
            "text/html": [
              "\n",
              "  <div id=\"df-4b8c39f6-7ba6-4548-9671-ecf8fb2c726c\" class=\"colab-df-container\">\n",
              "    <div>\n",
              "<style scoped>\n",
              "    .dataframe tbody tr th:only-of-type {\n",
              "        vertical-align: middle;\n",
              "    }\n",
              "\n",
              "    .dataframe tbody tr th {\n",
              "        vertical-align: top;\n",
              "    }\n",
              "\n",
              "    .dataframe thead th {\n",
              "        text-align: right;\n",
              "    }\n",
              "</style>\n",
              "<table border=\"1\" class=\"dataframe\">\n",
              "  <thead>\n",
              "    <tr style=\"text-align: right;\">\n",
              "      <th></th>\n",
              "      <th>content</th>\n",
              "      <th>date</th>\n",
              "      <th>keywords</th>\n",
              "    </tr>\n",
              "  </thead>\n",
              "  <tbody>\n",
              "    <tr>\n",
              "      <th>0</th>\n",
              "      <td>You mean \"Catsup.\" Seriously, Hunts had a br...</td>\n",
              "      <td>2023-01-01 13:19:16</td>\n",
              "      <td>ketchup, catsup, product ketchup, catsup serio...</td>\n",
              "    </tr>\n",
              "    <tr>\n",
              "      <th>1</th>\n",
              "      <td>I smell a charity stream here…Each mileston...</td>\n",
              "      <td>2023-01-01 16:36:15</td>\n",
              "      <td>heinz beans, different heinz, heinz, beans, be...</td>\n",
              "    </tr>\n",
              "    <tr>\n",
              "      <th>2</th>\n",
              "      <td>if anyone wants to get  fired up ask them abou...</td>\n",
              "      <td>2023-01-02 00:18:23</td>\n",
              "      <td>tub pickling, pickling kit, heinz plastic, pla...</td>\n",
              "    </tr>\n",
              "    <tr>\n",
              "      <th>3</th>\n",
              "      <td>just so you know, I work in a supermarket and ...</td>\n",
              "      <td>2023-01-02 02:04:50</td>\n",
              "      <td>packaging heinz, supermarket plastic, heinz be...</td>\n",
              "    </tr>\n",
              "    <tr>\n",
              "      <th>4</th>\n",
              "      <td>So hard to believe Velveeta Voldemort suppo...</td>\n",
              "      <td>2023-01-02 02:43:10</td>\n",
              "      <td>think moderate, kevin mccarthy, voldemort supp...</td>\n",
              "    </tr>\n",
              "    <tr>\n",
              "      <th>...</th>\n",
              "      <td>...</td>\n",
              "      <td>...</td>\n",
              "      <td>...</td>\n",
              "    </tr>\n",
              "    <tr>\n",
              "      <th>3106</th>\n",
              "      <td>Entered into the Ambient Food category by Kraf...</td>\n",
              "      <td>2023-08-30 10:22:04</td>\n",
              "      <td>plastic sustainability, recycled plastic, snap...</td>\n",
              "    </tr>\n",
              "    <tr>\n",
              "      <th>3107</th>\n",
              "      <td>Because no one taught him how to shop for ...</td>\n",
              "      <td>2023-08-30 16:03:31</td>\n",
              "      <td>republican expensive, shop cheaper, cheaper pr...</td>\n",
              "    </tr>\n",
              "    <tr>\n",
              "      <th>3108</th>\n",
              "      <td>Just saw some weird lunatic's posts who, while...</td>\n",
              "      <td>2023-08-31 04:15:48</td>\n",
              "      <td>cheese, cheese really, like cheese, cheese thi...</td>\n",
              "    </tr>\n",
              "    <tr>\n",
              "      <th>3109</th>\n",
              "      <td>Boozy confections of Eggos, Arby's French-fry-...</td>\n",
              "      <td>2023-08-31 16:55:31</td>\n",
              "      <td>vodka oreo, confections eggos, boozy confectio...</td>\n",
              "    </tr>\n",
              "    <tr>\n",
              "      <th>3110</th>\n",
              "      <td>Cooked up a box of Kraft Mac and cheese for a ...</td>\n",
              "      <td>2023-08-31 19:46:23</td>\n",
              "      <td>noodles, noodles half, batch noodles, mac chee...</td>\n",
              "    </tr>\n",
              "  </tbody>\n",
              "</table>\n",
              "<p>3111 rows × 3 columns</p>\n",
              "</div>\n",
              "    <div class=\"colab-df-buttons\">\n",
              "\n",
              "  <div class=\"colab-df-container\">\n",
              "    <button class=\"colab-df-convert\" onclick=\"convertToInteractive('df-4b8c39f6-7ba6-4548-9671-ecf8fb2c726c')\"\n",
              "            title=\"Convert this dataframe to an interactive table.\"\n",
              "            style=\"display:none;\">\n",
              "\n",
              "  <svg xmlns=\"http://www.w3.org/2000/svg\" height=\"24px\" viewBox=\"0 -960 960 960\">\n",
              "    <path d=\"M120-120v-720h720v720H120Zm60-500h600v-160H180v160Zm220 220h160v-160H400v160Zm0 220h160v-160H400v160ZM180-400h160v-160H180v160Zm440 0h160v-160H620v160ZM180-180h160v-160H180v160Zm440 0h160v-160H620v160Z\"/>\n",
              "  </svg>\n",
              "    </button>\n",
              "\n",
              "  <style>\n",
              "    .colab-df-container {\n",
              "      display:flex;\n",
              "      gap: 12px;\n",
              "    }\n",
              "\n",
              "    .colab-df-convert {\n",
              "      background-color: #E8F0FE;\n",
              "      border: none;\n",
              "      border-radius: 50%;\n",
              "      cursor: pointer;\n",
              "      display: none;\n",
              "      fill: #1967D2;\n",
              "      height: 32px;\n",
              "      padding: 0 0 0 0;\n",
              "      width: 32px;\n",
              "    }\n",
              "\n",
              "    .colab-df-convert:hover {\n",
              "      background-color: #E2EBFA;\n",
              "      box-shadow: 0px 1px 2px rgba(60, 64, 67, 0.3), 0px 1px 3px 1px rgba(60, 64, 67, 0.15);\n",
              "      fill: #174EA6;\n",
              "    }\n",
              "\n",
              "    .colab-df-buttons div {\n",
              "      margin-bottom: 4px;\n",
              "    }\n",
              "\n",
              "    [theme=dark] .colab-df-convert {\n",
              "      background-color: #3B4455;\n",
              "      fill: #D2E3FC;\n",
              "    }\n",
              "\n",
              "    [theme=dark] .colab-df-convert:hover {\n",
              "      background-color: #434B5C;\n",
              "      box-shadow: 0px 1px 3px 1px rgba(0, 0, 0, 0.15);\n",
              "      filter: drop-shadow(0px 1px 2px rgba(0, 0, 0, 0.3));\n",
              "      fill: #FFFFFF;\n",
              "    }\n",
              "  </style>\n",
              "\n",
              "    <script>\n",
              "      const buttonEl =\n",
              "        document.querySelector('#df-4b8c39f6-7ba6-4548-9671-ecf8fb2c726c button.colab-df-convert');\n",
              "      buttonEl.style.display =\n",
              "        google.colab.kernel.accessAllowed ? 'block' : 'none';\n",
              "\n",
              "      async function convertToInteractive(key) {\n",
              "        const element = document.querySelector('#df-4b8c39f6-7ba6-4548-9671-ecf8fb2c726c');\n",
              "        const dataTable =\n",
              "          await google.colab.kernel.invokeFunction('convertToInteractive',\n",
              "                                                    [key], {});\n",
              "        if (!dataTable) return;\n",
              "\n",
              "        const docLinkHtml = 'Like what you see? Visit the ' +\n",
              "          '<a target=\"_blank\" href=https://colab.research.google.com/notebooks/data_table.ipynb>data table notebook</a>'\n",
              "          + ' to learn more about interactive tables.';\n",
              "        element.innerHTML = '';\n",
              "        dataTable['output_type'] = 'display_data';\n",
              "        await google.colab.output.renderOutput(dataTable, element);\n",
              "        const docLink = document.createElement('div');\n",
              "        docLink.innerHTML = docLinkHtml;\n",
              "        element.appendChild(docLink);\n",
              "      }\n",
              "    </script>\n",
              "  </div>\n",
              "\n",
              "\n",
              "<div id=\"df-dd5ce021-24fd-4615-906a-e3203f2119ed\">\n",
              "  <button class=\"colab-df-quickchart\" onclick=\"quickchart('df-dd5ce021-24fd-4615-906a-e3203f2119ed')\"\n",
              "            title=\"Suggest charts.\"\n",
              "            style=\"display:none;\">\n",
              "\n",
              "<svg xmlns=\"http://www.w3.org/2000/svg\" height=\"24px\"viewBox=\"0 0 24 24\"\n",
              "     width=\"24px\">\n",
              "    <g>\n",
              "        <path d=\"M19 3H5c-1.1 0-2 .9-2 2v14c0 1.1.9 2 2 2h14c1.1 0 2-.9 2-2V5c0-1.1-.9-2-2-2zM9 17H7v-7h2v7zm4 0h-2V7h2v10zm4 0h-2v-4h2v4z\"/>\n",
              "    </g>\n",
              "</svg>\n",
              "  </button>\n",
              "\n",
              "<style>\n",
              "  .colab-df-quickchart {\n",
              "      --bg-color: #E8F0FE;\n",
              "      --fill-color: #1967D2;\n",
              "      --hover-bg-color: #E2EBFA;\n",
              "      --hover-fill-color: #174EA6;\n",
              "      --disabled-fill-color: #AAA;\n",
              "      --disabled-bg-color: #DDD;\n",
              "  }\n",
              "\n",
              "  [theme=dark] .colab-df-quickchart {\n",
              "      --bg-color: #3B4455;\n",
              "      --fill-color: #D2E3FC;\n",
              "      --hover-bg-color: #434B5C;\n",
              "      --hover-fill-color: #FFFFFF;\n",
              "      --disabled-bg-color: #3B4455;\n",
              "      --disabled-fill-color: #666;\n",
              "  }\n",
              "\n",
              "  .colab-df-quickchart {\n",
              "    background-color: var(--bg-color);\n",
              "    border: none;\n",
              "    border-radius: 50%;\n",
              "    cursor: pointer;\n",
              "    display: none;\n",
              "    fill: var(--fill-color);\n",
              "    height: 32px;\n",
              "    padding: 0;\n",
              "    width: 32px;\n",
              "  }\n",
              "\n",
              "  .colab-df-quickchart:hover {\n",
              "    background-color: var(--hover-bg-color);\n",
              "    box-shadow: 0 1px 2px rgba(60, 64, 67, 0.3), 0 1px 3px 1px rgba(60, 64, 67, 0.15);\n",
              "    fill: var(--button-hover-fill-color);\n",
              "  }\n",
              "\n",
              "  .colab-df-quickchart-complete:disabled,\n",
              "  .colab-df-quickchart-complete:disabled:hover {\n",
              "    background-color: var(--disabled-bg-color);\n",
              "    fill: var(--disabled-fill-color);\n",
              "    box-shadow: none;\n",
              "  }\n",
              "\n",
              "  .colab-df-spinner {\n",
              "    border: 2px solid var(--fill-color);\n",
              "    border-color: transparent;\n",
              "    border-bottom-color: var(--fill-color);\n",
              "    animation:\n",
              "      spin 1s steps(1) infinite;\n",
              "  }\n",
              "\n",
              "  @keyframes spin {\n",
              "    0% {\n",
              "      border-color: transparent;\n",
              "      border-bottom-color: var(--fill-color);\n",
              "      border-left-color: var(--fill-color);\n",
              "    }\n",
              "    20% {\n",
              "      border-color: transparent;\n",
              "      border-left-color: var(--fill-color);\n",
              "      border-top-color: var(--fill-color);\n",
              "    }\n",
              "    30% {\n",
              "      border-color: transparent;\n",
              "      border-left-color: var(--fill-color);\n",
              "      border-top-color: var(--fill-color);\n",
              "      border-right-color: var(--fill-color);\n",
              "    }\n",
              "    40% {\n",
              "      border-color: transparent;\n",
              "      border-right-color: var(--fill-color);\n",
              "      border-top-color: var(--fill-color);\n",
              "    }\n",
              "    60% {\n",
              "      border-color: transparent;\n",
              "      border-right-color: var(--fill-color);\n",
              "    }\n",
              "    80% {\n",
              "      border-color: transparent;\n",
              "      border-right-color: var(--fill-color);\n",
              "      border-bottom-color: var(--fill-color);\n",
              "    }\n",
              "    90% {\n",
              "      border-color: transparent;\n",
              "      border-bottom-color: var(--fill-color);\n",
              "    }\n",
              "  }\n",
              "</style>\n",
              "\n",
              "  <script>\n",
              "    async function quickchart(key) {\n",
              "      const quickchartButtonEl =\n",
              "        document.querySelector('#' + key + ' button');\n",
              "      quickchartButtonEl.disabled = true;  // To prevent multiple clicks.\n",
              "      quickchartButtonEl.classList.add('colab-df-spinner');\n",
              "      try {\n",
              "        const charts = await google.colab.kernel.invokeFunction(\n",
              "            'suggestCharts', [key], {});\n",
              "      } catch (error) {\n",
              "        console.error('Error during call to suggestCharts:', error);\n",
              "      }\n",
              "      quickchartButtonEl.classList.remove('colab-df-spinner');\n",
              "      quickchartButtonEl.classList.add('colab-df-quickchart-complete');\n",
              "    }\n",
              "    (() => {\n",
              "      let quickchartButtonEl =\n",
              "        document.querySelector('#df-dd5ce021-24fd-4615-906a-e3203f2119ed button');\n",
              "      quickchartButtonEl.style.display =\n",
              "        google.colab.kernel.accessAllowed ? 'block' : 'none';\n",
              "    })();\n",
              "  </script>\n",
              "</div>\n",
              "    </div>\n",
              "  </div>\n"
            ]
          },
          "metadata": {},
          "execution_count": 54
        }
      ]
    },
    {
      "cell_type": "markdown",
      "source": [
        "# Difference between Pulsar and Roberta sentiment"
      ],
      "metadata": {
        "id": "0UWRjlpdBKer"
      }
    },
    {
      "cell_type": "code",
      "source": [
        "# Twitter\n",
        "different_df = khc_df[khc_df['sentiment class'] != khc_df['roberta sentiment class']]\n",
        "different_df = different_df.iloc[:,[3,-6,-1]]\n",
        "different_df"
      ],
      "metadata": {
        "id": "z77mXhFgxNEi"
      },
      "execution_count": null,
      "outputs": []
    },
    {
      "cell_type": "markdown",
      "source": [
        "# Export the data to an excel file"
      ],
      "metadata": {
        "id": "9DKh13C6ByQ7"
      }
    },
    {
      "cell_type": "code",
      "source": [
        "# this is the one with keywords and sentiment\n",
        "khc_df_JanAug = khc_df"
      ],
      "metadata": {
        "id": "QUKEiArFEcrv"
      },
      "execution_count": null,
      "outputs": []
    },
    {
      "cell_type": "code",
      "source": [
        "khc_df_JanAug.shape[0]"
      ],
      "metadata": {
        "colab": {
          "base_uri": "https://localhost:8080/"
        },
        "id": "NsHytFoFOe_p",
        "outputId": "bac92451-baee-4286-9108-9ba4a0198c96"
      },
      "execution_count": null,
      "outputs": [
        {
          "output_type": "execute_result",
          "data": {
            "text/plain": [
              "3111"
            ]
          },
          "metadata": {},
          "execution_count": 49
        }
      ]
    },
    {
      "cell_type": "code",
      "source": [
        "# drop the last column (roberta sentiment score)\n",
        "last_column = khc_df_JanAug.columns[-1]\n",
        "\n",
        "# Drop the last column\n",
        "khc_df_JanAug.drop(columns=last_column, inplace=True)"
      ],
      "metadata": {
        "id": "uhiRJal-fNly"
      },
      "execution_count": null,
      "outputs": []
    },
    {
      "cell_type": "code",
      "source": [
        "khc_df_JanAug"
      ],
      "metadata": {
        "id": "CnbuPEj2VDE0"
      },
      "execution_count": null,
      "outputs": []
    },
    {
      "cell_type": "code",
      "source": [
        "# save to new excel file\n",
        "khc_df_JanAug.to_excel('/content/drive/MyDrive/Zeno_KHC_Twitter/khc_twitter_JanAug_key_sent_0913.xlsx', index=False)"
      ],
      "metadata": {
        "id": "-xJ0hnP7Qb77"
      },
      "execution_count": null,
      "outputs": []
    }
  ]
}